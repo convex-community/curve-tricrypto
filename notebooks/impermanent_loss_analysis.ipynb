{
 "cells": [
  {
   "cell_type": "code",
   "execution_count": 1,
   "metadata": {},
   "outputs": [],
   "source": [
    "import os\n",
    "import sys\n",
    "import datetime\n",
    "import time\n",
    "import glob\n",
    "\n",
    "sys.path.append('../')\n",
    "\n",
    "import pandas as pd\n",
    "# import matplotlib.pyplot as plt\n",
    "# import seaborn as sns\n",
    "\n",
    "from src.utils.coin_prices import get_historical_price_coingecko\n",
    "from src.get_block_positions import get_eth_tricrypto_positions\n"
   ]
  },
  {
   "cell_type": "markdown",
   "metadata": {},
   "source": [
    "# Calculate\n"
   ]
  },
  {
   "cell_type": "code",
   "execution_count": 2,
   "metadata": {},
   "outputs": [],
   "source": [
    "lp_balance = 100\n",
    "cache_dir = \"../data/block_positions_for_amount\"\n",
    "alchemy_node = f\"https://eth-mainnet.alchemyapi.io/v2/{os.environ['ALCHEMY_API_KEY']}\"\n",
    "\n",
    "if not os.path.exists(cache_dir):\n",
    "    os.mkdir(cache_dir)"
   ]
  },
  {
   "cell_type": "markdown",
   "metadata": {},
   "source": [
    "now get underlying tokens if 100 lp tokens were removed. this will only consider addrs wo had at a minimum of 100 lp tokens in either a curve or a convex gauge.\n",
    "\n",
    "The code can break mid way so just re-run it. it wont re-calculate positions for a block, so if it was saved in the cache_dir, it will just continue on from there till current block. If the code goes to sleep for 1800 seconds, then stop the notebook."
   ]
  },
  {
   "cell_type": "code",
   "execution_count": 3,
   "metadata": {},
   "outputs": [
    {
     "name": "stderr",
     "output_type": "stream",
     "text": [
      "2021-09-11:00:43:26,162-4s INFO [get_position_multicall.py get_position_multicall:22] :: Initialising Position Calculator ...\n",
      "2021-09-11:00:43:27,532-4s INFO [get_position_multicall.py get_position_multicall:73] :: ... done!\n",
      "2021-09-11:00:43:28,5-4s INFO [get_block_positions.py get_block_positions:114] :: Current block: 13200787\n",
      "2021-09-11:00:43:28,5-4s INFO [get_block_positions.py get_block_positions:118] :: Reached max block height 13200787\n"
     ]
    }
   ],
   "source": [
    "get_eth_tricrypto_positions(cache_dir=cache_dir, node_provider_https=alchemy_node, block_steps=20000, lp_amount=lp_balance)"
   ]
  },
  {
   "cell_type": "code",
   "execution_count": 4,
   "metadata": {},
   "outputs": [
    {
     "data": {
      "text/html": "<div>\n<style scoped>\n    .dataframe tbody tr th:only-of-type {\n        vertical-align: middle;\n    }\n\n    .dataframe tbody tr th {\n        vertical-align: top;\n    }\n\n    .dataframe thead th {\n        text-align: right;\n    }\n</style>\n<table border=\"1\" class=\"dataframe\">\n  <thead>\n    <tr style=\"text-align: right;\">\n      <th></th>\n      <th>Unnamed: 0</th>\n      <th>addr</th>\n      <th>Tether USD</th>\n      <th>Wrapped BTC</th>\n      <th>Wrapped Ether</th>\n      <th>lp_balances</th>\n      <th>block_number</th>\n    </tr>\n  </thead>\n  <tbody>\n    <tr>\n      <th>0</th>\n      <td>2021-08-04 23:45:53</td>\n      <td>0xf032f533a8814741345215a0710b0364953387a5</td>\n      <td>142497.522072</td>\n      <td>3.589493</td>\n      <td>52.358654</td>\n      <td>1.000000e+20</td>\n      <td>12961148</td>\n    </tr>\n    <tr>\n      <th>1</th>\n      <td>2021-08-04 23:45:53</td>\n      <td>0xee28b8bf533ce188212a449e09c4bd1ed390b85e</td>\n      <td>142497.522072</td>\n      <td>3.589493</td>\n      <td>52.358654</td>\n      <td>1.000000e+20</td>\n      <td>12961148</td>\n    </tr>\n    <tr>\n      <th>2</th>\n      <td>2021-08-04 23:45:53</td>\n      <td>0x7217a656bd5442ad6aa51014e19846f4eaf42fe4</td>\n      <td>142497.522072</td>\n      <td>3.589493</td>\n      <td>52.358654</td>\n      <td>1.000000e+20</td>\n      <td>12961148</td>\n    </tr>\n    <tr>\n      <th>3</th>\n      <td>2021-08-04 23:45:53</td>\n      <td>0x34921ddccd844d0cd7b30b473889cefeae138411</td>\n      <td>142497.522072</td>\n      <td>3.589493</td>\n      <td>52.358654</td>\n      <td>1.000000e+20</td>\n      <td>12961148</td>\n    </tr>\n    <tr>\n      <th>4</th>\n      <td>2021-08-04 23:45:53</td>\n      <td>0xf96da4775776ea43c42795b116c7a6eccd6e71b5</td>\n      <td>142497.522072</td>\n      <td>3.589493</td>\n      <td>52.358654</td>\n      <td>1.000000e+20</td>\n      <td>12961148</td>\n    </tr>\n    <tr>\n      <th>...</th>\n      <td>...</td>\n      <td>...</td>\n      <td>...</td>\n      <td>...</td>\n      <td>...</td>\n      <td>...</td>\n      <td>...</td>\n    </tr>\n    <tr>\n      <th>27</th>\n      <td>2021-08-11 04:14:39</td>\n      <td>0xf43316162d4594d2f927a25ab75cfcac676d3e85</td>\n      <td>157889.305961</td>\n      <td>3.449626</td>\n      <td>49.786218</td>\n      <td>1.000000e+20</td>\n      <td>13001148</td>\n    </tr>\n    <tr>\n      <th>28</th>\n      <td>2021-08-11 04:14:39</td>\n      <td>0x3907315e7e7073015bcba729a2632fe7a02f485f</td>\n      <td>157889.305961</td>\n      <td>3.449626</td>\n      <td>49.786218</td>\n      <td>1.000000e+20</td>\n      <td>13001148</td>\n    </tr>\n    <tr>\n      <th>29</th>\n      <td>2021-08-11 04:14:39</td>\n      <td>0x63495284b373224c88db0354f043f7f3584b9dc6</td>\n      <td>157889.305961</td>\n      <td>3.449626</td>\n      <td>49.786218</td>\n      <td>1.000000e+20</td>\n      <td>13001148</td>\n    </tr>\n    <tr>\n      <th>30</th>\n      <td>2021-08-11 04:14:39</td>\n      <td>0xb18fbfe3d34fdc227eb4508cde437412b6233121</td>\n      <td>157889.305961</td>\n      <td>3.449626</td>\n      <td>49.786218</td>\n      <td>1.000000e+20</td>\n      <td>13001148</td>\n    </tr>\n    <tr>\n      <th>31</th>\n      <td>2021-08-11 04:14:39</td>\n      <td>0xa5ca2fadac1f9f2d78711043a4faa1324e10f16e</td>\n      <td>157889.305961</td>\n      <td>3.449626</td>\n      <td>49.786218</td>\n      <td>1.000000e+20</td>\n      <td>13001148</td>\n    </tr>\n  </tbody>\n</table>\n<p>435 rows × 7 columns</p>\n</div>",
      "text/plain": "             Unnamed: 0                                        addr  \\\n0   2021-08-04 23:45:53  0xf032f533a8814741345215a0710b0364953387a5   \n1   2021-08-04 23:45:53  0xee28b8bf533ce188212a449e09c4bd1ed390b85e   \n2   2021-08-04 23:45:53  0x7217a656bd5442ad6aa51014e19846f4eaf42fe4   \n3   2021-08-04 23:45:53  0x34921ddccd844d0cd7b30b473889cefeae138411   \n4   2021-08-04 23:45:53  0xf96da4775776ea43c42795b116c7a6eccd6e71b5   \n..                  ...                                         ...   \n27  2021-08-11 04:14:39  0xf43316162d4594d2f927a25ab75cfcac676d3e85   \n28  2021-08-11 04:14:39  0x3907315e7e7073015bcba729a2632fe7a02f485f   \n29  2021-08-11 04:14:39  0x63495284b373224c88db0354f043f7f3584b9dc6   \n30  2021-08-11 04:14:39  0xb18fbfe3d34fdc227eb4508cde437412b6233121   \n31  2021-08-11 04:14:39  0xa5ca2fadac1f9f2d78711043a4faa1324e10f16e   \n\n       Tether USD  Wrapped BTC  Wrapped Ether   lp_balances  block_number  \n0   142497.522072     3.589493      52.358654  1.000000e+20      12961148  \n1   142497.522072     3.589493      52.358654  1.000000e+20      12961148  \n2   142497.522072     3.589493      52.358654  1.000000e+20      12961148  \n3   142497.522072     3.589493      52.358654  1.000000e+20      12961148  \n4   142497.522072     3.589493      52.358654  1.000000e+20      12961148  \n..            ...          ...            ...           ...           ...  \n27  157889.305961     3.449626      49.786218  1.000000e+20      13001148  \n28  157889.305961     3.449626      49.786218  1.000000e+20      13001148  \n29  157889.305961     3.449626      49.786218  1.000000e+20      13001148  \n30  157889.305961     3.449626      49.786218  1.000000e+20      13001148  \n31  157889.305961     3.449626      49.786218  1.000000e+20      13001148  \n\n[435 rows x 7 columns]"
     },
     "execution_count": 4,
     "metadata": {},
     "output_type": "execute_result"
    }
   ],
   "source": [
    "positions_data_files = glob.glob(os.path.join(cache_dir, f\"*_{lp_balance}.csv\"))\n",
    "positions_data = pd.DataFrame()\n",
    "for filename in positions_data_files:\n",
    "    csv_data = pd.read_csv(filename)\n",
    "    positions_data = pd.concat([positions_data, csv_data])\n",
    "\n",
    "positions_data"
   ]
  },
  {
   "cell_type": "code",
   "execution_count": 5,
   "metadata": {},
   "outputs": [
    {
     "data": {
      "text/html": "<div>\n<style scoped>\n    .dataframe tbody tr th:only-of-type {\n        vertical-align: middle;\n    }\n\n    .dataframe tbody tr th {\n        vertical-align: top;\n    }\n\n    .dataframe thead th {\n        text-align: right;\n    }\n</style>\n<table border=\"1\" class=\"dataframe\">\n  <thead>\n    <tr style=\"text-align: right;\">\n      <th></th>\n      <th>addr</th>\n      <th>usdt</th>\n      <th>btc</th>\n      <th>eth</th>\n      <th>lp_balances</th>\n      <th>block_number</th>\n    </tr>\n    <tr>\n      <th>Timestamp</th>\n      <th></th>\n      <th></th>\n      <th></th>\n      <th></th>\n      <th></th>\n      <th></th>\n    </tr>\n  </thead>\n  <tbody>\n    <tr>\n      <th>2021-07-17 02:40:00</th>\n      <td>0x7a16ff8270133f063aab6c9977183d9e72835428</td>\n      <td>116182.340403</td>\n      <td>3.698717</td>\n      <td>61.990845</td>\n      <td>100.0</td>\n      <td>12841148</td>\n    </tr>\n    <tr>\n      <th>2021-07-20 05:54:52</th>\n      <td>0x7a16ff8270133f063aab6c9977183d9e72835428</td>\n      <td>110670.801955</td>\n      <td>3.734523</td>\n      <td>64.144125</td>\n      <td>100.0</td>\n      <td>12861148</td>\n    </tr>\n    <tr>\n      <th>2021-07-20 05:54:52</th>\n      <td>0xd5431fecbb14f20f8ee68360b586d84d589f9f77</td>\n      <td>110670.801955</td>\n      <td>3.734523</td>\n      <td>64.144125</td>\n      <td>100.0</td>\n      <td>12861148</td>\n    </tr>\n    <tr>\n      <th>2021-07-23 08:57:01</th>\n      <td>0x1dc2dc7110f8ee61650864ad6680fe8144b7d6f9</td>\n      <td>122192.513826</td>\n      <td>3.740502</td>\n      <td>58.870186</td>\n      <td>100.0</td>\n      <td>12881148</td>\n    </tr>\n    <tr>\n      <th>2021-07-23 08:57:01</th>\n      <td>0xee28b8bf533ce188212a449e09c4bd1ed390b85e</td>\n      <td>122192.513826</td>\n      <td>3.740502</td>\n      <td>58.870186</td>\n      <td>100.0</td>\n      <td>12881148</td>\n    </tr>\n    <tr>\n      <th>...</th>\n      <td>...</td>\n      <td>...</td>\n      <td>...</td>\n      <td>...</td>\n      <td>...</td>\n      <td>...</td>\n    </tr>\n    <tr>\n      <th>2021-09-11 00:39:49</th>\n      <td>0xe24286adfc053f76888aa51d9a94f6c1519b4cba</td>\n      <td>157645.046685</td>\n      <td>3.517125</td>\n      <td>49.060290</td>\n      <td>100.0</td>\n      <td>13200768</td>\n    </tr>\n    <tr>\n      <th>2021-09-11 00:39:49</th>\n      <td>0x7a16ff8270133f063aab6c9977183d9e72835428</td>\n      <td>157645.046685</td>\n      <td>3.517125</td>\n      <td>49.060290</td>\n      <td>100.0</td>\n      <td>13200768</td>\n    </tr>\n    <tr>\n      <th>2021-09-11 00:39:49</th>\n      <td>0xa2694887f13a7bfee00824ba02b38ae848779136</td>\n      <td>157645.046685</td>\n      <td>3.517125</td>\n      <td>49.060290</td>\n      <td>100.0</td>\n      <td>13200768</td>\n    </tr>\n    <tr>\n      <th>2021-09-11 00:39:49</th>\n      <td>0x5e34bc93a7506ecc8562ade4d5c8b090247a6349</td>\n      <td>157645.046685</td>\n      <td>3.517125</td>\n      <td>49.060290</td>\n      <td>100.0</td>\n      <td>13200768</td>\n    </tr>\n    <tr>\n      <th>2021-09-11 00:39:49</th>\n      <td>0x155ddac174dc33a1c7054b90ae8c31228776d147</td>\n      <td>157645.046685</td>\n      <td>3.517125</td>\n      <td>49.060290</td>\n      <td>100.0</td>\n      <td>13200768</td>\n    </tr>\n  </tbody>\n</table>\n<p>435 rows × 6 columns</p>\n</div>",
      "text/plain": "                                                           addr  \\\nTimestamp                                                         \n2021-07-17 02:40:00  0x7a16ff8270133f063aab6c9977183d9e72835428   \n2021-07-20 05:54:52  0x7a16ff8270133f063aab6c9977183d9e72835428   \n2021-07-20 05:54:52  0xd5431fecbb14f20f8ee68360b586d84d589f9f77   \n2021-07-23 08:57:01  0x1dc2dc7110f8ee61650864ad6680fe8144b7d6f9   \n2021-07-23 08:57:01  0xee28b8bf533ce188212a449e09c4bd1ed390b85e   \n...                                                         ...   \n2021-09-11 00:39:49  0xe24286adfc053f76888aa51d9a94f6c1519b4cba   \n2021-09-11 00:39:49  0x7a16ff8270133f063aab6c9977183d9e72835428   \n2021-09-11 00:39:49  0xa2694887f13a7bfee00824ba02b38ae848779136   \n2021-09-11 00:39:49  0x5e34bc93a7506ecc8562ade4d5c8b090247a6349   \n2021-09-11 00:39:49  0x155ddac174dc33a1c7054b90ae8c31228776d147   \n\n                              usdt       btc        eth  lp_balances  \\\nTimestamp                                                              \n2021-07-17 02:40:00  116182.340403  3.698717  61.990845        100.0   \n2021-07-20 05:54:52  110670.801955  3.734523  64.144125        100.0   \n2021-07-20 05:54:52  110670.801955  3.734523  64.144125        100.0   \n2021-07-23 08:57:01  122192.513826  3.740502  58.870186        100.0   \n2021-07-23 08:57:01  122192.513826  3.740502  58.870186        100.0   \n...                            ...       ...        ...          ...   \n2021-09-11 00:39:49  157645.046685  3.517125  49.060290        100.0   \n2021-09-11 00:39:49  157645.046685  3.517125  49.060290        100.0   \n2021-09-11 00:39:49  157645.046685  3.517125  49.060290        100.0   \n2021-09-11 00:39:49  157645.046685  3.517125  49.060290        100.0   \n2021-09-11 00:39:49  157645.046685  3.517125  49.060290        100.0   \n\n                     block_number  \nTimestamp                          \n2021-07-17 02:40:00      12841148  \n2021-07-20 05:54:52      12861148  \n2021-07-20 05:54:52      12861148  \n2021-07-23 08:57:01      12881148  \n2021-07-23 08:57:01      12881148  \n...                           ...  \n2021-09-11 00:39:49      13200768  \n2021-09-11 00:39:49      13200768  \n2021-09-11 00:39:49      13200768  \n2021-09-11 00:39:49      13200768  \n2021-09-11 00:39:49      13200768  \n\n[435 rows x 6 columns]"
     },
     "execution_count": 5,
     "metadata": {},
     "output_type": "execute_result"
    }
   ],
   "source": [
    "positions_data = positions_data.rename(columns={positions_data.columns[0]: \"Timestamp\"})\n",
    "positions_data = positions_data.set_index(positions_data[positions_data.columns[0]])\n",
    "positions_data = positions_data.loc[:, positions_data.columns != 'Timestamp']\n",
    "positions_data.sort_index(inplace=True)\n",
    "positions_data = positions_data[positions_data[\"Tether USD\"] != 'Error']\n",
    "positions_data['lp_balances'] = positions_data['lp_balances'].astype(float) * 1e-18\n",
    "positions_data['Tether USD'] = positions_data['Tether USD'].astype(float)\n",
    "positions_data['Wrapped BTC'] = positions_data['Wrapped BTC'].astype(float)\n",
    "positions_data['Wrapped Ether'] = positions_data['Wrapped Ether'].astype(float)\n",
    "positions_data = positions_data.rename(columns={\"Wrapped Ether\": \"eth\", \"Wrapped BTC\": \"btc\", \"Tether USD\": \"usdt\"})\n",
    "positions_data\n"
   ]
  },
  {
   "cell_type": "markdown",
   "metadata": {},
   "source": [
    "We look at at analytics for one address."
   ]
  },
  {
   "cell_type": "code",
   "execution_count": 6,
   "metadata": {},
   "outputs": [],
   "source": [
    "addr = \"0x7a16ff8270133f063aab6c9977183d9e72835428\""
   ]
  },
  {
   "cell_type": "code",
   "execution_count": 7,
   "metadata": {},
   "outputs": [
    {
     "data": {
      "text/html": "<div>\n<style scoped>\n    .dataframe tbody tr th:only-of-type {\n        vertical-align: middle;\n    }\n\n    .dataframe tbody tr th {\n        vertical-align: top;\n    }\n\n    .dataframe thead th {\n        text-align: right;\n    }\n</style>\n<table border=\"1\" class=\"dataframe\">\n  <thead>\n    <tr style=\"text-align: right;\">\n      <th></th>\n      <th>addr</th>\n      <th>usdt</th>\n      <th>btc</th>\n      <th>eth</th>\n      <th>lp_balances</th>\n      <th>block_number</th>\n    </tr>\n    <tr>\n      <th>Timestamp</th>\n      <th></th>\n      <th></th>\n      <th></th>\n      <th></th>\n      <th></th>\n      <th></th>\n    </tr>\n  </thead>\n  <tbody>\n    <tr>\n      <th>2021-07-17 02:40:00</th>\n      <td>0x7a16ff8270133f063aab6c9977183d9e72835428</td>\n      <td>116182.340403</td>\n      <td>3.698717</td>\n      <td>61.990845</td>\n      <td>100.0</td>\n      <td>12841148</td>\n    </tr>\n    <tr>\n      <th>2021-07-20 05:54:52</th>\n      <td>0x7a16ff8270133f063aab6c9977183d9e72835428</td>\n      <td>110670.801955</td>\n      <td>3.734523</td>\n      <td>64.144125</td>\n      <td>100.0</td>\n      <td>12861148</td>\n    </tr>\n    <tr>\n      <th>2021-07-23 08:57:01</th>\n      <td>0x7a16ff8270133f063aab6c9977183d9e72835428</td>\n      <td>122192.513826</td>\n      <td>3.740502</td>\n      <td>58.870186</td>\n      <td>100.0</td>\n      <td>12881148</td>\n    </tr>\n    <tr>\n      <th>2021-07-26 11:50:36</th>\n      <td>0x7a16ff8270133f063aab6c9977183d9e72835428</td>\n      <td>133581.268074</td>\n      <td>3.492233</td>\n      <td>57.140308</td>\n      <td>100.0</td>\n      <td>12901148</td>\n    </tr>\n    <tr>\n      <th>2021-07-29 16:13:16</th>\n      <td>0x7a16ff8270133f063aab6c9977183d9e72835428</td>\n      <td>135361.997511</td>\n      <td>3.394767</td>\n      <td>58.582984</td>\n      <td>100.0</td>\n      <td>12921148</td>\n    </tr>\n    <tr>\n      <th>2021-08-01 20:12:44</th>\n      <td>0x7a16ff8270133f063aab6c9977183d9e72835428</td>\n      <td>141717.510245</td>\n      <td>3.448818</td>\n      <td>55.123014</td>\n      <td>100.0</td>\n      <td>12941148</td>\n    </tr>\n    <tr>\n      <th>2021-08-04 23:45:53</th>\n      <td>0x7a16ff8270133f063aab6c9977183d9e72835428</td>\n      <td>142497.522072</td>\n      <td>3.589493</td>\n      <td>52.358654</td>\n      <td>100.0</td>\n      <td>12961148</td>\n    </tr>\n    <tr>\n      <th>2021-08-08 02:18:24</th>\n      <td>0x7a16ff8270133f063aab6c9977183d9e72835428</td>\n      <td>156030.729903</td>\n      <td>3.506792</td>\n      <td>49.445598</td>\n      <td>100.0</td>\n      <td>12981148</td>\n    </tr>\n    <tr>\n      <th>2021-08-11 04:14:39</th>\n      <td>0x7a16ff8270133f063aab6c9977183d9e72835428</td>\n      <td>157889.305961</td>\n      <td>3.449626</td>\n      <td>49.786218</td>\n      <td>100.0</td>\n      <td>13001148</td>\n    </tr>\n    <tr>\n      <th>2021-08-14 06:31:46</th>\n      <td>0x7a16ff8270133f063aab6c9977183d9e72835428</td>\n      <td>161701.632407</td>\n      <td>3.411962</td>\n      <td>49.045952</td>\n      <td>100.0</td>\n      <td>13021148</td>\n    </tr>\n    <tr>\n      <th>2021-08-17 08:37:31</th>\n      <td>0x7a16ff8270133f063aab6c9977183d9e72835428</td>\n      <td>158054.083498</td>\n      <td>3.440686</td>\n      <td>49.912545</td>\n      <td>100.0</td>\n      <td>13041148</td>\n    </tr>\n    <tr>\n      <th>2021-08-20 10:51:41</th>\n      <td>0x7a16ff8270133f063aab6c9977183d9e72835428</td>\n      <td>159449.252755</td>\n      <td>3.406832</td>\n      <td>49.809014</td>\n      <td>100.0</td>\n      <td>13061148</td>\n    </tr>\n    <tr>\n      <th>2021-08-23 12:59:17</th>\n      <td>0x7a16ff8270133f063aab6c9977183d9e72835428</td>\n      <td>165557.370033</td>\n      <td>3.291491</td>\n      <td>49.763772</td>\n      <td>100.0</td>\n      <td>13081148</td>\n    </tr>\n    <tr>\n      <th>2021-08-26 15:05:23</th>\n      <td>0x7a16ff8270133f063aab6c9977183d9e72835428</td>\n      <td>158295.558868</td>\n      <td>3.361649</td>\n      <td>50.955256</td>\n      <td>100.0</td>\n      <td>13101148</td>\n    </tr>\n    <tr>\n      <th>2021-08-29 17:23:29</th>\n      <td>0x7a16ff8270133f063aab6c9977183d9e72835428</td>\n      <td>160781.899800</td>\n      <td>3.333840</td>\n      <td>50.594675</td>\n      <td>100.0</td>\n      <td>13121148</td>\n    </tr>\n    <tr>\n      <th>2021-09-01 19:38:32</th>\n      <td>0x7a16ff8270133f063aab6c9977183d9e72835428</td>\n      <td>169703.791817</td>\n      <td>3.488147</td>\n      <td>45.693946</td>\n      <td>100.0</td>\n      <td>13141148</td>\n    </tr>\n    <tr>\n      <th>2021-09-04 21:30:08</th>\n      <td>0x7a16ff8270133f063aab6c9977183d9e72835428</td>\n      <td>173735.487973</td>\n      <td>3.477643</td>\n      <td>44.986536</td>\n      <td>100.0</td>\n      <td>13161148</td>\n    </tr>\n    <tr>\n      <th>2021-09-07 23:44:54</th>\n      <td>0x7a16ff8270133f063aab6c9977183d9e72835428</td>\n      <td>161326.179663</td>\n      <td>3.486534</td>\n      <td>48.244875</td>\n      <td>100.0</td>\n      <td>13181148</td>\n    </tr>\n    <tr>\n      <th>2021-09-11 00:39:49</th>\n      <td>0x7a16ff8270133f063aab6c9977183d9e72835428</td>\n      <td>157645.046685</td>\n      <td>3.517125</td>\n      <td>49.060290</td>\n      <td>100.0</td>\n      <td>13200768</td>\n    </tr>\n  </tbody>\n</table>\n</div>",
      "text/plain": "                                                           addr  \\\nTimestamp                                                         \n2021-07-17 02:40:00  0x7a16ff8270133f063aab6c9977183d9e72835428   \n2021-07-20 05:54:52  0x7a16ff8270133f063aab6c9977183d9e72835428   \n2021-07-23 08:57:01  0x7a16ff8270133f063aab6c9977183d9e72835428   \n2021-07-26 11:50:36  0x7a16ff8270133f063aab6c9977183d9e72835428   \n2021-07-29 16:13:16  0x7a16ff8270133f063aab6c9977183d9e72835428   \n2021-08-01 20:12:44  0x7a16ff8270133f063aab6c9977183d9e72835428   \n2021-08-04 23:45:53  0x7a16ff8270133f063aab6c9977183d9e72835428   \n2021-08-08 02:18:24  0x7a16ff8270133f063aab6c9977183d9e72835428   \n2021-08-11 04:14:39  0x7a16ff8270133f063aab6c9977183d9e72835428   \n2021-08-14 06:31:46  0x7a16ff8270133f063aab6c9977183d9e72835428   \n2021-08-17 08:37:31  0x7a16ff8270133f063aab6c9977183d9e72835428   \n2021-08-20 10:51:41  0x7a16ff8270133f063aab6c9977183d9e72835428   \n2021-08-23 12:59:17  0x7a16ff8270133f063aab6c9977183d9e72835428   \n2021-08-26 15:05:23  0x7a16ff8270133f063aab6c9977183d9e72835428   \n2021-08-29 17:23:29  0x7a16ff8270133f063aab6c9977183d9e72835428   \n2021-09-01 19:38:32  0x7a16ff8270133f063aab6c9977183d9e72835428   \n2021-09-04 21:30:08  0x7a16ff8270133f063aab6c9977183d9e72835428   \n2021-09-07 23:44:54  0x7a16ff8270133f063aab6c9977183d9e72835428   \n2021-09-11 00:39:49  0x7a16ff8270133f063aab6c9977183d9e72835428   \n\n                              usdt       btc        eth  lp_balances  \\\nTimestamp                                                              \n2021-07-17 02:40:00  116182.340403  3.698717  61.990845        100.0   \n2021-07-20 05:54:52  110670.801955  3.734523  64.144125        100.0   \n2021-07-23 08:57:01  122192.513826  3.740502  58.870186        100.0   \n2021-07-26 11:50:36  133581.268074  3.492233  57.140308        100.0   \n2021-07-29 16:13:16  135361.997511  3.394767  58.582984        100.0   \n2021-08-01 20:12:44  141717.510245  3.448818  55.123014        100.0   \n2021-08-04 23:45:53  142497.522072  3.589493  52.358654        100.0   \n2021-08-08 02:18:24  156030.729903  3.506792  49.445598        100.0   \n2021-08-11 04:14:39  157889.305961  3.449626  49.786218        100.0   \n2021-08-14 06:31:46  161701.632407  3.411962  49.045952        100.0   \n2021-08-17 08:37:31  158054.083498  3.440686  49.912545        100.0   \n2021-08-20 10:51:41  159449.252755  3.406832  49.809014        100.0   \n2021-08-23 12:59:17  165557.370033  3.291491  49.763772        100.0   \n2021-08-26 15:05:23  158295.558868  3.361649  50.955256        100.0   \n2021-08-29 17:23:29  160781.899800  3.333840  50.594675        100.0   \n2021-09-01 19:38:32  169703.791817  3.488147  45.693946        100.0   \n2021-09-04 21:30:08  173735.487973  3.477643  44.986536        100.0   \n2021-09-07 23:44:54  161326.179663  3.486534  48.244875        100.0   \n2021-09-11 00:39:49  157645.046685  3.517125  49.060290        100.0   \n\n                     block_number  \nTimestamp                          \n2021-07-17 02:40:00      12841148  \n2021-07-20 05:54:52      12861148  \n2021-07-23 08:57:01      12881148  \n2021-07-26 11:50:36      12901148  \n2021-07-29 16:13:16      12921148  \n2021-08-01 20:12:44      12941148  \n2021-08-04 23:45:53      12961148  \n2021-08-08 02:18:24      12981148  \n2021-08-11 04:14:39      13001148  \n2021-08-14 06:31:46      13021148  \n2021-08-17 08:37:31      13041148  \n2021-08-20 10:51:41      13061148  \n2021-08-23 12:59:17      13081148  \n2021-08-26 15:05:23      13101148  \n2021-08-29 17:23:29      13121148  \n2021-09-01 19:38:32      13141148  \n2021-09-04 21:30:08      13161148  \n2021-09-07 23:44:54      13181148  \n2021-09-11 00:39:49      13200768  "
     },
     "execution_count": 7,
     "metadata": {},
     "output_type": "execute_result"
    }
   ],
   "source": [
    "addr_positions = positions_data[positions_data.addr == addr]\n",
    "addr_positions"
   ]
  },
  {
   "cell_type": "markdown",
   "metadata": {},
   "source": [
    "We need a price column"
   ]
  },
  {
   "cell_type": "code",
   "execution_count": 8,
   "metadata": {},
   "outputs": [],
   "source": [
    "wbtc = \"0x2260FAC5E5542a773Aa44fBCfeDf7C193bc2C599\"\n",
    "weth = \"0xc02aaa39b223fe8d0a0e5c4f27ead9083c756cc2\""
   ]
  },
  {
   "cell_type": "code",
   "execution_count": 9,
   "metadata": {},
   "outputs": [
    {
     "name": "stderr",
     "output_type": "stream",
     "text": [
      "/Users/swadhinnanda/Projects/git/convex-community/tricrypto-analysis/venv/lib/python3.7/site-packages/ipykernel_launcher.py:1: SettingWithCopyWarning: \n",
      "A value is trying to be set on a copy of a slice from a DataFrame.\n",
      "Try using .loc[row_indexer,col_indexer] = value instead\n",
      "\n",
      "See the caveats in the documentation: https://pandas.pydata.org/pandas-docs/stable/user_guide/indexing.html#returning-a-view-versus-a-copy\n",
      "  \"\"\"Entry point for launching an IPython kernel.\n",
      "/Users/swadhinnanda/Projects/git/convex-community/tricrypto-analysis/venv/lib/python3.7/site-packages/ipykernel_launcher.py:2: SettingWithCopyWarning: \n",
      "A value is trying to be set on a copy of a slice from a DataFrame.\n",
      "Try using .loc[row_indexer,col_indexer] = value instead\n",
      "\n",
      "See the caveats in the documentation: https://pandas.pydata.org/pandas-docs/stable/user_guide/indexing.html#returning-a-view-versus-a-copy\n",
      "  \n",
      "/Users/swadhinnanda/Projects/git/convex-community/tricrypto-analysis/venv/lib/python3.7/site-packages/pandas/core/indexing.py:1817: SettingWithCopyWarning: \n",
      "A value is trying to be set on a copy of a slice from a DataFrame.\n",
      "Try using .loc[row_indexer,col_indexer] = value instead\n",
      "\n",
      "See the caveats in the documentation: https://pandas.pydata.org/pandas-docs/stable/user_guide/indexing.html#returning-a-view-versus-a-copy\n",
      "  self._setitem_single_column(loc, value, pi)\n"
     ]
    },
    {
     "name": "stdout",
     "output_type": "stream",
     "text": [
      "Warning: Coingecko Rate Limit might get breached.\n",
      "Warning: Coingecko Rate Limit might get breached.\n",
      "Warning: Coingecko Rate Limit might get breached.\n",
      "Warning: Coingecko Rate Limit might get breached.\n",
      "Warning: Coingecko Rate Limit might get breached.\n",
      "Warning: Coingecko Rate Limit might get breached.\n",
      "Warning: Coingecko Rate Limit might get breached.\n",
      "Warning: Coingecko Rate Limit might get breached.\n",
      "Warning: Coingecko Rate Limit might get breached.\n",
      "Warning: Coingecko Rate Limit might get breached.\n",
      "Warning: Coingecko Rate Limit might get breached.\n",
      "Warning: Coingecko Rate Limit might get breached.\n",
      "Warning: Coingecko Rate Limit might get breached.\n",
      "Warning: Coingecko Rate Limit might get breached.\n",
      "Warning: Coingecko Rate Limit might get breached.\n",
      "Warning: Coingecko Rate Limit might get breached.\n",
      "Warning: Coingecko Rate Limit might get breached.\n",
      "Warning: Coingecko Rate Limit might get breached.\n",
      "Warning: Coingecko Rate Limit might get breached.\n",
      "Warning: Coingecko Rate Limit might get breached.\n"
     ]
    },
    {
     "ename": "HTTPError",
     "evalue": "429 Client Error: Too Many Requests for url: https://api.coingecko.com/api/v3/coins/ethereum/contract/0xc02aaa39b223fe8d0a0e5c4f27ead9083c756cc2/market_chart/range?vs_currency=usd&from=1631313589&to=1631318389",
     "output_type": "error",
     "traceback": [
      "\u001b[0;31m---------------------------------------------------------------------------\u001b[0m",
      "\u001b[0;31mHTTPError\u001b[0m                                 Traceback (most recent call last)",
      "\u001b[0;32m/var/folders/w7/3c51j_5j2gq4n13mljt4rrb80000gn/T/ipykernel_48419/3264914946.py\u001b[0m in \u001b[0;36m<module>\u001b[0;34m\u001b[0m\n\u001b[1;32m      4\u001b[0m \u001b[0;32mfor\u001b[0m \u001b[0mindex\u001b[0m\u001b[0;34m,\u001b[0m \u001b[0mrow\u001b[0m \u001b[0;32min\u001b[0m \u001b[0maddr_positions\u001b[0m\u001b[0;34m.\u001b[0m\u001b[0miterrows\u001b[0m\u001b[0;34m(\u001b[0m\u001b[0;34m)\u001b[0m\u001b[0;34m:\u001b[0m\u001b[0;34m\u001b[0m\u001b[0;34m\u001b[0m\u001b[0m\n\u001b[1;32m      5\u001b[0m     \u001b[0mtimestamp\u001b[0m \u001b[0;34m=\u001b[0m \u001b[0mdatetime\u001b[0m\u001b[0;34m.\u001b[0m\u001b[0mdatetime\u001b[0m\u001b[0;34m.\u001b[0m\u001b[0mstrptime\u001b[0m\u001b[0;34m(\u001b[0m\u001b[0mindex\u001b[0m\u001b[0;34m,\u001b[0m \u001b[0;34m'%Y-%m-%d %H:%M:%S'\u001b[0m\u001b[0;34m)\u001b[0m\u001b[0;34m\u001b[0m\u001b[0;34m\u001b[0m\u001b[0m\n\u001b[0;32m----> 6\u001b[0;31m     \u001b[0meth_price\u001b[0m \u001b[0;34m=\u001b[0m \u001b[0mget_historical_price_coingecko\u001b[0m\u001b[0;34m(\u001b[0m\u001b[0mweth\u001b[0m\u001b[0;34m,\u001b[0m \u001b[0mtimestamp\u001b[0m\u001b[0;34m)\u001b[0m\u001b[0;34m.\u001b[0m\u001b[0mquote\u001b[0m\u001b[0;34m\u001b[0m\u001b[0;34m\u001b[0m\u001b[0m\n\u001b[0m\u001b[1;32m      7\u001b[0m     \u001b[0mbtc_price\u001b[0m \u001b[0;34m=\u001b[0m \u001b[0mget_historical_price_coingecko\u001b[0m\u001b[0;34m(\u001b[0m\u001b[0mwbtc\u001b[0m\u001b[0;34m,\u001b[0m \u001b[0mtimestamp\u001b[0m\u001b[0;34m)\u001b[0m\u001b[0;34m.\u001b[0m\u001b[0mquote\u001b[0m\u001b[0;34m\u001b[0m\u001b[0;34m\u001b[0m\u001b[0m\n\u001b[1;32m      8\u001b[0m     \u001b[0maddr_positions\u001b[0m\u001b[0;34m.\u001b[0m\u001b[0mloc\u001b[0m\u001b[0;34m[\u001b[0m\u001b[0mindex\u001b[0m\u001b[0;34m,\u001b[0m \u001b[0;34m'eth_usd'\u001b[0m\u001b[0;34m]\u001b[0m \u001b[0;34m=\u001b[0m \u001b[0meth_price\u001b[0m \u001b[0;34m*\u001b[0m \u001b[0mrow\u001b[0m\u001b[0;34m.\u001b[0m\u001b[0meth\u001b[0m\u001b[0;34m\u001b[0m\u001b[0;34m\u001b[0m\u001b[0m\n",
      "\u001b[0;32m~/Projects/git/convex-community/tricrypto-analysis/src/utils/coin_prices.py\u001b[0m in \u001b[0;36mget_historical_price_coingecko\u001b[0;34m(token_contract, query_datetime, currency)\u001b[0m\n\u001b[1;32m     47\u001b[0m                 \u001b[0mvs_currency\u001b[0m\u001b[0;34m=\u001b[0m\u001b[0mcurrency\u001b[0m\u001b[0;34m,\u001b[0m\u001b[0;34m\u001b[0m\u001b[0;34m\u001b[0m\u001b[0m\n\u001b[1;32m     48\u001b[0m                 \u001b[0mfrom_timestamp\u001b[0m\u001b[0;34m=\u001b[0m\u001b[0mint\u001b[0m\u001b[0;34m(\u001b[0m\u001b[0mfrom_timestamp\u001b[0m\u001b[0;34m)\u001b[0m\u001b[0;34m,\u001b[0m\u001b[0;34m\u001b[0m\u001b[0;34m\u001b[0m\u001b[0m\n\u001b[0;32m---> 49\u001b[0;31m                 \u001b[0mto_timestamp\u001b[0m\u001b[0;34m=\u001b[0m\u001b[0mint\u001b[0m\u001b[0;34m(\u001b[0m\u001b[0mto_timestamp\u001b[0m\u001b[0;34m)\u001b[0m\u001b[0;34m,\u001b[0m\u001b[0;34m\u001b[0m\u001b[0;34m\u001b[0m\u001b[0m\n\u001b[0m\u001b[1;32m     50\u001b[0m             )\n\u001b[1;32m     51\u001b[0m         )\n",
      "\u001b[0;32m~/Projects/git/convex-community/tricrypto-analysis/venv/lib/python3.7/site-packages/pycoingecko/utils.py\u001b[0m in \u001b[0;36minput_args\u001b[0;34m(*args, **kwargs)\u001b[0m\n\u001b[1;32m     10\u001b[0m         \u001b[0margs\u001b[0m \u001b[0;34m=\u001b[0m \u001b[0;34m[\u001b[0m\u001b[0marg_preprocessing\u001b[0m\u001b[0;34m(\u001b[0m\u001b[0mv\u001b[0m\u001b[0;34m)\u001b[0m \u001b[0;32mfor\u001b[0m \u001b[0mv\u001b[0m \u001b[0;32min\u001b[0m \u001b[0margs\u001b[0m\u001b[0;34m]\u001b[0m\u001b[0;34m\u001b[0m\u001b[0;34m\u001b[0m\u001b[0m\n\u001b[1;32m     11\u001b[0m \u001b[0;34m\u001b[0m\u001b[0m\n\u001b[0;32m---> 12\u001b[0;31m         \u001b[0;32mreturn\u001b[0m \u001b[0mfunc\u001b[0m\u001b[0;34m(\u001b[0m\u001b[0;34m*\u001b[0m\u001b[0margs\u001b[0m\u001b[0;34m,\u001b[0m \u001b[0;34m**\u001b[0m\u001b[0mkwargs\u001b[0m\u001b[0;34m)\u001b[0m\u001b[0;34m\u001b[0m\u001b[0;34m\u001b[0m\u001b[0m\n\u001b[0m\u001b[1;32m     13\u001b[0m \u001b[0;34m\u001b[0m\u001b[0m\n\u001b[1;32m     14\u001b[0m     \u001b[0;32mreturn\u001b[0m \u001b[0minput_args\u001b[0m\u001b[0;34m\u001b[0m\u001b[0;34m\u001b[0m\u001b[0m\n",
      "\u001b[0;32m~/Projects/git/convex-community/tricrypto-analysis/venv/lib/python3.7/site-packages/pycoingecko/api.py\u001b[0m in \u001b[0;36mget_coin_market_chart_range_from_contract_address_by_id\u001b[0;34m(self, id, contract_address, vs_currency, from_timestamp, to_timestamp, **kwargs)\u001b[0m\n\u001b[1;32m    228\u001b[0m         \u001b[0mapi_url\u001b[0m \u001b[0;34m=\u001b[0m \u001b[0mself\u001b[0m\u001b[0;34m.\u001b[0m\u001b[0m__api_url_params\u001b[0m\u001b[0;34m(\u001b[0m\u001b[0mapi_url\u001b[0m\u001b[0;34m,\u001b[0m \u001b[0mkwargs\u001b[0m\u001b[0;34m)\u001b[0m\u001b[0;34m\u001b[0m\u001b[0;34m\u001b[0m\u001b[0m\n\u001b[1;32m    229\u001b[0m \u001b[0;34m\u001b[0m\u001b[0m\n\u001b[0;32m--> 230\u001b[0;31m         \u001b[0;32mreturn\u001b[0m \u001b[0mself\u001b[0m\u001b[0;34m.\u001b[0m\u001b[0m__request\u001b[0m\u001b[0;34m(\u001b[0m\u001b[0mapi_url\u001b[0m\u001b[0;34m)\u001b[0m\u001b[0;34m\u001b[0m\u001b[0;34m\u001b[0m\u001b[0m\n\u001b[0m\u001b[1;32m    231\u001b[0m \u001b[0;34m\u001b[0m\u001b[0m\n\u001b[1;32m    232\u001b[0m     \u001b[0;31m# ---------- ASSET PLATFORMS ----------#\u001b[0m\u001b[0;34m\u001b[0m\u001b[0;34m\u001b[0m\u001b[0;34m\u001b[0m\u001b[0m\n",
      "\u001b[0;32m~/Projects/git/convex-community/tricrypto-analysis/venv/lib/python3.7/site-packages/pycoingecko/api.py\u001b[0m in \u001b[0;36m__request\u001b[0;34m(self, url)\u001b[0m\n\u001b[1;32m     27\u001b[0m \u001b[0;34m\u001b[0m\u001b[0m\n\u001b[1;32m     28\u001b[0m         \u001b[0;32mtry\u001b[0m\u001b[0;34m:\u001b[0m\u001b[0;34m\u001b[0m\u001b[0;34m\u001b[0m\u001b[0m\n\u001b[0;32m---> 29\u001b[0;31m             \u001b[0mresponse\u001b[0m\u001b[0;34m.\u001b[0m\u001b[0mraise_for_status\u001b[0m\u001b[0;34m(\u001b[0m\u001b[0;34m)\u001b[0m\u001b[0;34m\u001b[0m\u001b[0;34m\u001b[0m\u001b[0m\n\u001b[0m\u001b[1;32m     30\u001b[0m             \u001b[0mcontent\u001b[0m \u001b[0;34m=\u001b[0m \u001b[0mjson\u001b[0m\u001b[0;34m.\u001b[0m\u001b[0mloads\u001b[0m\u001b[0;34m(\u001b[0m\u001b[0mresponse\u001b[0m\u001b[0;34m.\u001b[0m\u001b[0mcontent\u001b[0m\u001b[0;34m.\u001b[0m\u001b[0mdecode\u001b[0m\u001b[0;34m(\u001b[0m\u001b[0;34m'utf-8'\u001b[0m\u001b[0;34m)\u001b[0m\u001b[0;34m)\u001b[0m\u001b[0;34m\u001b[0m\u001b[0;34m\u001b[0m\u001b[0m\n\u001b[1;32m     31\u001b[0m             \u001b[0;32mreturn\u001b[0m \u001b[0mcontent\u001b[0m\u001b[0;34m\u001b[0m\u001b[0;34m\u001b[0m\u001b[0m\n",
      "\u001b[0;32m~/Projects/git/convex-community/tricrypto-analysis/venv/lib/python3.7/site-packages/requests/models.py\u001b[0m in \u001b[0;36mraise_for_status\u001b[0;34m(self)\u001b[0m\n\u001b[1;32m    951\u001b[0m \u001b[0;34m\u001b[0m\u001b[0m\n\u001b[1;32m    952\u001b[0m         \u001b[0;32mif\u001b[0m \u001b[0mhttp_error_msg\u001b[0m\u001b[0;34m:\u001b[0m\u001b[0;34m\u001b[0m\u001b[0;34m\u001b[0m\u001b[0m\n\u001b[0;32m--> 953\u001b[0;31m             \u001b[0;32mraise\u001b[0m \u001b[0mHTTPError\u001b[0m\u001b[0;34m(\u001b[0m\u001b[0mhttp_error_msg\u001b[0m\u001b[0;34m,\u001b[0m \u001b[0mresponse\u001b[0m\u001b[0;34m=\u001b[0m\u001b[0mself\u001b[0m\u001b[0;34m)\u001b[0m\u001b[0;34m\u001b[0m\u001b[0;34m\u001b[0m\u001b[0m\n\u001b[0m\u001b[1;32m    954\u001b[0m \u001b[0;34m\u001b[0m\u001b[0m\n\u001b[1;32m    955\u001b[0m     \u001b[0;32mdef\u001b[0m \u001b[0mclose\u001b[0m\u001b[0;34m(\u001b[0m\u001b[0mself\u001b[0m\u001b[0;34m)\u001b[0m\u001b[0;34m:\u001b[0m\u001b[0;34m\u001b[0m\u001b[0;34m\u001b[0m\u001b[0m\n",
      "\u001b[0;31mHTTPError\u001b[0m: 429 Client Error: Too Many Requests for url: https://api.coingecko.com/api/v3/coins/ethereum/contract/0xc02aaa39b223fe8d0a0e5c4f27ead9083c756cc2/market_chart/range?vs_currency=usd&from=1631313589&to=1631318389"
     ]
    }
   ],
   "source": [
    "addr_positions['eth_usd'] = 0\n",
    "addr_positions['btc_usd'] = 0\n",
    "\n",
    "for index, row in addr_positions.iterrows():\n",
    "    timestamp = datetime.datetime.strptime(index, '%Y-%m-%d %H:%M:%S')\n",
    "    eth_price = get_historical_price_coingecko(weth, timestamp).quote\n",
    "    btc_price = get_historical_price_coingecko(wbtc, timestamp).quote\n",
    "    addr_positions.loc[index, 'eth_usd'] = eth_price * row.eth\n",
    "    addr_positions.loc[index, 'btc_usd'] = btc_price * row.btc\n",
    "\n",
    "addr_positions\n"
   ]
  },
  {
   "cell_type": "markdown",
   "metadata": {},
   "source": [
    "impermanent loss is dollar value of each of the coins at the start vs today (at today's prices) "
   ]
  },
  {
   "cell_type": "code",
   "execution_count": null,
   "metadata": {},
   "outputs": [
    {
     "ename": "HTTPError",
     "evalue": "429 Client Error: Too Many Requests for url: https://api.coingecko.com/api/v3/coins/ethereum/contract/0xc02aaa39b223fe8d0a0e5c4f27ead9083c756cc2/market_chart/range?vs_currency=usd&from=1631313589&to=1631318929",
     "output_type": "error",
     "traceback": [
      "\u001b[0;31m---------------------------------------------------------------------------\u001b[0m",
      "\u001b[0;31mHTTPError\u001b[0m                                 Traceback (most recent call last)",
      "\u001b[0;32m/var/folders/w7/3c51j_5j2gq4n13mljt4rrb80000gn/T/ipykernel_47701/84390705.py\u001b[0m in \u001b[0;36m<module>\u001b[0;34m\u001b[0m\n\u001b[1;32m      4\u001b[0m \u001b[0;32mfor\u001b[0m \u001b[0mindex\u001b[0m\u001b[0;34m,\u001b[0m \u001b[0mrow\u001b[0m \u001b[0;32min\u001b[0m \u001b[0maddr_positions\u001b[0m\u001b[0;34m.\u001b[0m\u001b[0miterrows\u001b[0m\u001b[0;34m(\u001b[0m\u001b[0;34m)\u001b[0m\u001b[0;34m:\u001b[0m\u001b[0;34m\u001b[0m\u001b[0;34m\u001b[0m\u001b[0m\n\u001b[1;32m      5\u001b[0m     \u001b[0mtimestamp\u001b[0m \u001b[0;34m=\u001b[0m \u001b[0mdatetime\u001b[0m\u001b[0;34m.\u001b[0m\u001b[0mdatetime\u001b[0m\u001b[0;34m.\u001b[0m\u001b[0mstrptime\u001b[0m\u001b[0;34m(\u001b[0m\u001b[0mindex\u001b[0m\u001b[0;34m,\u001b[0m \u001b[0;34m'%Y-%m-%d %H:%M:%S'\u001b[0m\u001b[0;34m)\u001b[0m\u001b[0;34m\u001b[0m\u001b[0;34m\u001b[0m\u001b[0m\n\u001b[0;32m----> 6\u001b[0;31m     \u001b[0meth_price\u001b[0m \u001b[0;34m=\u001b[0m \u001b[0mget_historical_price_coingecko\u001b[0m\u001b[0;34m(\u001b[0m\u001b[0mweth\u001b[0m\u001b[0;34m,\u001b[0m \u001b[0mtimestamp\u001b[0m\u001b[0;34m)\u001b[0m\u001b[0;34m.\u001b[0m\u001b[0mquote\u001b[0m\u001b[0;34m\u001b[0m\u001b[0;34m\u001b[0m\u001b[0m\n\u001b[0m\u001b[1;32m      7\u001b[0m     \u001b[0mbtc_price\u001b[0m \u001b[0;34m=\u001b[0m \u001b[0mget_historical_price_coingecko\u001b[0m\u001b[0;34m(\u001b[0m\u001b[0mwbtc\u001b[0m\u001b[0;34m,\u001b[0m \u001b[0mtimestamp\u001b[0m\u001b[0;34m)\u001b[0m\u001b[0;34m.\u001b[0m\u001b[0mquote\u001b[0m\u001b[0;34m\u001b[0m\u001b[0;34m\u001b[0m\u001b[0m\n\u001b[1;32m      8\u001b[0m     \u001b[0maddr_positions\u001b[0m\u001b[0;34m.\u001b[0m\u001b[0mloc\u001b[0m\u001b[0;34m[\u001b[0m\u001b[0mindex\u001b[0m\u001b[0;34m,\u001b[0m \u001b[0;34m'eth_usd'\u001b[0m\u001b[0;34m]\u001b[0m \u001b[0;34m=\u001b[0m \u001b[0meth_price\u001b[0m \u001b[0;34m*\u001b[0m \u001b[0mrow\u001b[0m\u001b[0;34m.\u001b[0m\u001b[0meth\u001b[0m\u001b[0;34m\u001b[0m\u001b[0;34m\u001b[0m\u001b[0m\n",
      "\u001b[0;32m~/Projects/git/convex-community/tricrypto-analysis/src/utils/coin_prices.py\u001b[0m in \u001b[0;36mget_historical_price_coingecko\u001b[0;34m(token_contract, query_datetime, currency)\u001b[0m\n\u001b[1;32m     47\u001b[0m                 \u001b[0mvs_currency\u001b[0m\u001b[0;34m=\u001b[0m\u001b[0mcurrency\u001b[0m\u001b[0;34m,\u001b[0m\u001b[0;34m\u001b[0m\u001b[0;34m\u001b[0m\u001b[0m\n\u001b[1;32m     48\u001b[0m                 \u001b[0mfrom_timestamp\u001b[0m\u001b[0;34m=\u001b[0m\u001b[0mint\u001b[0m\u001b[0;34m(\u001b[0m\u001b[0mfrom_timestamp\u001b[0m\u001b[0;34m)\u001b[0m\u001b[0;34m,\u001b[0m\u001b[0;34m\u001b[0m\u001b[0;34m\u001b[0m\u001b[0m\n\u001b[0;32m---> 49\u001b[0;31m                 \u001b[0mto_timestamp\u001b[0m\u001b[0;34m=\u001b[0m\u001b[0mint\u001b[0m\u001b[0;34m(\u001b[0m\u001b[0mto_timestamp\u001b[0m\u001b[0;34m)\u001b[0m\u001b[0;34m,\u001b[0m\u001b[0;34m\u001b[0m\u001b[0;34m\u001b[0m\u001b[0m\n\u001b[0m\u001b[1;32m     50\u001b[0m             )\n\u001b[1;32m     51\u001b[0m         )\n",
      "\u001b[0;32m~/Projects/git/convex-community/tricrypto-analysis/venv/lib/python3.7/site-packages/pycoingecko/utils.py\u001b[0m in \u001b[0;36minput_args\u001b[0;34m(*args, **kwargs)\u001b[0m\n\u001b[1;32m     10\u001b[0m         \u001b[0margs\u001b[0m \u001b[0;34m=\u001b[0m \u001b[0;34m[\u001b[0m\u001b[0marg_preprocessing\u001b[0m\u001b[0;34m(\u001b[0m\u001b[0mv\u001b[0m\u001b[0;34m)\u001b[0m \u001b[0;32mfor\u001b[0m \u001b[0mv\u001b[0m \u001b[0;32min\u001b[0m \u001b[0margs\u001b[0m\u001b[0;34m]\u001b[0m\u001b[0;34m\u001b[0m\u001b[0;34m\u001b[0m\u001b[0m\n\u001b[1;32m     11\u001b[0m \u001b[0;34m\u001b[0m\u001b[0m\n\u001b[0;32m---> 12\u001b[0;31m         \u001b[0;32mreturn\u001b[0m \u001b[0mfunc\u001b[0m\u001b[0;34m(\u001b[0m\u001b[0;34m*\u001b[0m\u001b[0margs\u001b[0m\u001b[0;34m,\u001b[0m \u001b[0;34m**\u001b[0m\u001b[0mkwargs\u001b[0m\u001b[0;34m)\u001b[0m\u001b[0;34m\u001b[0m\u001b[0;34m\u001b[0m\u001b[0m\n\u001b[0m\u001b[1;32m     13\u001b[0m \u001b[0;34m\u001b[0m\u001b[0m\n\u001b[1;32m     14\u001b[0m     \u001b[0;32mreturn\u001b[0m \u001b[0minput_args\u001b[0m\u001b[0;34m\u001b[0m\u001b[0;34m\u001b[0m\u001b[0m\n",
      "\u001b[0;32m~/Projects/git/convex-community/tricrypto-analysis/venv/lib/python3.7/site-packages/pycoingecko/api.py\u001b[0m in \u001b[0;36mget_coin_market_chart_range_from_contract_address_by_id\u001b[0;34m(self, id, contract_address, vs_currency, from_timestamp, to_timestamp, **kwargs)\u001b[0m\n\u001b[1;32m    228\u001b[0m         \u001b[0mapi_url\u001b[0m \u001b[0;34m=\u001b[0m \u001b[0mself\u001b[0m\u001b[0;34m.\u001b[0m\u001b[0m__api_url_params\u001b[0m\u001b[0;34m(\u001b[0m\u001b[0mapi_url\u001b[0m\u001b[0;34m,\u001b[0m \u001b[0mkwargs\u001b[0m\u001b[0;34m)\u001b[0m\u001b[0;34m\u001b[0m\u001b[0;34m\u001b[0m\u001b[0m\n\u001b[1;32m    229\u001b[0m \u001b[0;34m\u001b[0m\u001b[0m\n\u001b[0;32m--> 230\u001b[0;31m         \u001b[0;32mreturn\u001b[0m \u001b[0mself\u001b[0m\u001b[0;34m.\u001b[0m\u001b[0m__request\u001b[0m\u001b[0;34m(\u001b[0m\u001b[0mapi_url\u001b[0m\u001b[0;34m)\u001b[0m\u001b[0;34m\u001b[0m\u001b[0;34m\u001b[0m\u001b[0m\n\u001b[0m\u001b[1;32m    231\u001b[0m \u001b[0;34m\u001b[0m\u001b[0m\n\u001b[1;32m    232\u001b[0m     \u001b[0;31m# ---------- ASSET PLATFORMS ----------#\u001b[0m\u001b[0;34m\u001b[0m\u001b[0;34m\u001b[0m\u001b[0;34m\u001b[0m\u001b[0m\n",
      "\u001b[0;32m~/Projects/git/convex-community/tricrypto-analysis/venv/lib/python3.7/site-packages/pycoingecko/api.py\u001b[0m in \u001b[0;36m__request\u001b[0;34m(self, url)\u001b[0m\n\u001b[1;32m     27\u001b[0m \u001b[0;34m\u001b[0m\u001b[0m\n\u001b[1;32m     28\u001b[0m         \u001b[0;32mtry\u001b[0m\u001b[0;34m:\u001b[0m\u001b[0;34m\u001b[0m\u001b[0;34m\u001b[0m\u001b[0m\n\u001b[0;32m---> 29\u001b[0;31m             \u001b[0mresponse\u001b[0m\u001b[0;34m.\u001b[0m\u001b[0mraise_for_status\u001b[0m\u001b[0;34m(\u001b[0m\u001b[0;34m)\u001b[0m\u001b[0;34m\u001b[0m\u001b[0;34m\u001b[0m\u001b[0m\n\u001b[0m\u001b[1;32m     30\u001b[0m             \u001b[0mcontent\u001b[0m \u001b[0;34m=\u001b[0m \u001b[0mjson\u001b[0m\u001b[0;34m.\u001b[0m\u001b[0mloads\u001b[0m\u001b[0;34m(\u001b[0m\u001b[0mresponse\u001b[0m\u001b[0;34m.\u001b[0m\u001b[0mcontent\u001b[0m\u001b[0;34m.\u001b[0m\u001b[0mdecode\u001b[0m\u001b[0;34m(\u001b[0m\u001b[0;34m'utf-8'\u001b[0m\u001b[0;34m)\u001b[0m\u001b[0;34m)\u001b[0m\u001b[0;34m\u001b[0m\u001b[0;34m\u001b[0m\u001b[0m\n\u001b[1;32m     31\u001b[0m             \u001b[0;32mreturn\u001b[0m \u001b[0mcontent\u001b[0m\u001b[0;34m\u001b[0m\u001b[0;34m\u001b[0m\u001b[0m\n",
      "\u001b[0;32m~/Projects/git/convex-community/tricrypto-analysis/venv/lib/python3.7/site-packages/requests/models.py\u001b[0m in \u001b[0;36mraise_for_status\u001b[0;34m(self)\u001b[0m\n\u001b[1;32m    951\u001b[0m \u001b[0;34m\u001b[0m\u001b[0m\n\u001b[1;32m    952\u001b[0m         \u001b[0;32mif\u001b[0m \u001b[0mhttp_error_msg\u001b[0m\u001b[0;34m:\u001b[0m\u001b[0;34m\u001b[0m\u001b[0;34m\u001b[0m\u001b[0m\n\u001b[0;32m--> 953\u001b[0;31m             \u001b[0;32mraise\u001b[0m \u001b[0mHTTPError\u001b[0m\u001b[0;34m(\u001b[0m\u001b[0mhttp_error_msg\u001b[0m\u001b[0;34m,\u001b[0m \u001b[0mresponse\u001b[0m\u001b[0;34m=\u001b[0m\u001b[0mself\u001b[0m\u001b[0;34m)\u001b[0m\u001b[0;34m\u001b[0m\u001b[0;34m\u001b[0m\u001b[0m\n\u001b[0m\u001b[1;32m    954\u001b[0m \u001b[0;34m\u001b[0m\u001b[0m\n\u001b[1;32m    955\u001b[0m     \u001b[0;32mdef\u001b[0m \u001b[0mclose\u001b[0m\u001b[0;34m(\u001b[0m\u001b[0mself\u001b[0m\u001b[0;34m)\u001b[0m\u001b[0;34m:\u001b[0m\u001b[0;34m\u001b[0m\u001b[0;34m\u001b[0m\u001b[0m\n",
      "\u001b[0;31mHTTPError\u001b[0m: 429 Client Error: Too Many Requests for url: https://api.coingecko.com/api/v3/coins/ethereum/contract/0xc02aaa39b223fe8d0a0e5c4f27ead9083c756cc2/market_chart/range?vs_currency=usd&from=1631313589&to=1631318929"
     ]
    },
    {
     "name": "stdout",
     "output_type": "stream",
     "text": [
      "116182.340403 171995.9980806562 208148.15678952393\n"
     ]
    }
   ],
   "source": [
    "initial_btc_value = addr_positions.loc[addr_positions.index[0], 'btc'] * btc_price\n",
    "initial_eth_value = addr_positions.loc[addr_positions.index[0], 'eth'] * eth_price\n",
    "initial_usd_value = addr_positions.loc[addr_positions.index[0], 'usdt']\n",
    "\n",
    "print(initial_usd_value, initial_btc_value, initial_eth_value)"
   ]
  },
  {
   "cell_type": "code",
   "execution_count": null,
   "metadata": {},
   "outputs": [
    {
     "name": "stdout",
     "output_type": "stream",
     "text": [
      "165041.110201 165489.97580863975 165378.14447965368\n"
     ]
    }
   ],
   "source": [
    "final_btc_value = addr_positions.loc[addr_positions.index[-1], 'btc'] * btc_price\n",
    "final_eth_value = addr_positions.loc[addr_positions.index[-1], 'eth'] * eth_price\n",
    "final_usd_value = addr_positions.loc[addr_positions.index[-1], 'usdt']\n",
    "\n",
    "print(final_usd_value, final_btc_value, final_eth_value)"
   ]
  },
  {
   "cell_type": "code",
   "execution_count": null,
   "metadata": {},
   "outputs": [
    {
     "name": "stdout",
     "output_type": "stream",
     "text": [
      "impermanent loss usd: 42.05352519885923%\n",
      "impermanent loss btc: -4.86460859048457%\n",
      "impermanent loss eth: -24.42948988241428%\n"
     ]
    }
   ],
   "source": [
    "print(f'impermanent loss usd: {(final_usd_value - initial_usd_value)/initial_usd_value * 100}%')\n",
    "print(f'impermanent loss btc: {(final_btc_value - initial_btc_value)/initial_btc_value * 100}%')\n",
    "print(f'impermanent loss eth: {(final_eth_value - initial_eth_value)/initial_eth_value * 100}%')"
   ]
  },
  {
   "cell_type": "code",
   "execution_count": null,
   "metadata": {},
   "outputs": [],
   "source": []
  }
 ],
 "metadata": {
  "kernelspec": {
   "display_name": "Python 3.7.10  ('venv': venv)",
   "name": "python3710jvsc74a57bd021df2f293af9707545440a88aaf24e48b342b3531ee3aea9e212c79967abcd9c"
  },
  "language_info": {
   "codemirror_mode": {
    "name": "ipython",
    "version": 3
   },
   "file_extension": ".py",
   "mimetype": "text/x-python",
   "name": "python",
   "nbconvert_exporter": "python",
   "pygments_lexer": "ipython3",
   "version": "3.7.10"
  },
  "metadata": {
   "interpreter": {
    "hash": "83e6dbab8748a3b70bf1cb3f40480a4fa173654d0987c1b7bfb11327803dd24a"
   }
  },
  "orig_nbformat": 2
 },
 "nbformat": 4,
 "nbformat_minor": 2
}
