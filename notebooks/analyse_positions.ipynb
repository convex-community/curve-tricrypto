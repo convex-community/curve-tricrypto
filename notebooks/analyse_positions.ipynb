{
 "cells": [
  {
   "cell_type": "code",
   "execution_count": 22,
   "metadata": {},
   "outputs": [],
   "source": [
    "import sys\n",
    "import datetime\n",
    "import time\n",
    "\n",
    "sys.path.append('../')\n",
    "\n",
    "import pandas as pd\n",
    "import matplotlib.pyplot as plt\n",
    "import seaborn as sns\n",
    "\n",
    "from src.utils.coin_prices import get_historical_price_coingecko\n"
   ]
  },
  {
   "cell_type": "markdown",
   "metadata": {},
   "source": [
    "Constants:"
   ]
  },
  {
   "cell_type": "code",
   "execution_count": 8,
   "metadata": {},
   "outputs": [],
   "source": [
    "USDT = \"0xdAC17F958D2ee523a2206206994597C13D831ec7\"\n",
    "WBTC = \"0x2260FAC5E5542a773Aa44fBCfeDf7C193bc2C599\"\n",
    "WETH = \"0xc02aaa39b223fe8d0a0e5c4f27ead9083c756cc2\""
   ]
  },
  {
   "cell_type": "markdown",
   "metadata": {},
   "source": [
    "Get data"
   ]
  },
  {
   "cell_type": "code",
   "execution_count": 4,
   "metadata": {},
   "outputs": [],
   "source": [
    "data = pd.read_csv(\"../data/0xdc1661ad8fc908a853bd1747b6b011db2788d685.csv\")\n",
    "data.set_index(\"time\", inplace=True)"
   ]
  },
  {
   "cell_type": "code",
   "execution_count": 5,
   "metadata": {},
   "outputs": [
    {
     "data": {
      "text/html": "<div>\n<style scoped>\n    .dataframe tbody tr th:only-of-type {\n        vertical-align: middle;\n    }\n\n    .dataframe tbody tr th {\n        vertical-align: top;\n    }\n\n    .dataframe thead th {\n        text-align: right;\n    }\n</style>\n<table border=\"1\" class=\"dataframe\">\n  <thead>\n    <tr style=\"text-align: right;\">\n      <th></th>\n      <th>block_number</th>\n      <th>lp_balance</th>\n      <th>curve_gauge_balance</th>\n      <th>convex_gauge_balance</th>\n      <th>num_usdt_tokens</th>\n      <th>num_wbtc_tokens</th>\n      <th>num_eth_tokens</th>\n    </tr>\n    <tr>\n      <th>time</th>\n      <th></th>\n      <th></th>\n      <th></th>\n      <th></th>\n      <th></th>\n      <th></th>\n      <th></th>\n    </tr>\n  </thead>\n  <tbody>\n    <tr>\n      <th>2021-07-22 11:23:16+00:00</th>\n      <td>12875869</td>\n      <td>2.330491</td>\n      <td>0.000000</td>\n      <td>0</td>\n      <td>2784.891930</td>\n      <td>0.087497</td>\n      <td>1.407613</td>\n    </tr>\n    <tr>\n      <th>2021-07-22 11:42:35+00:00</th>\n      <td>12875969</td>\n      <td>0.000000</td>\n      <td>2.330491</td>\n      <td>0</td>\n      <td>2786.274979</td>\n      <td>0.087496</td>\n      <td>1.407124</td>\n    </tr>\n    <tr>\n      <th>2021-07-22 12:02:48+00:00</th>\n      <td>12876069</td>\n      <td>0.000000</td>\n      <td>2.330491</td>\n      <td>0</td>\n      <td>2784.694912</td>\n      <td>0.087561</td>\n      <td>1.406854</td>\n    </tr>\n    <tr>\n      <th>2021-07-22 12:23:01+00:00</th>\n      <td>12876169</td>\n      <td>0.000000</td>\n      <td>2.330491</td>\n      <td>0</td>\n      <td>2780.754257</td>\n      <td>0.087453</td>\n      <td>1.410071</td>\n    </tr>\n    <tr>\n      <th>2021-07-22 12:46:57+00:00</th>\n      <td>12876269</td>\n      <td>0.000000</td>\n      <td>2.330491</td>\n      <td>0</td>\n      <td>2793.020420</td>\n      <td>0.087177</td>\n      <td>1.407486</td>\n    </tr>\n    <tr>\n      <th>...</th>\n      <td>...</td>\n      <td>...</td>\n      <td>...</td>\n      <td>...</td>\n      <td>...</td>\n      <td>...</td>\n      <td>...</td>\n    </tr>\n    <tr>\n      <th>2021-07-24 09:23:50+00:00</th>\n      <td>12888169</td>\n      <td>0.000000</td>\n      <td>2.330491</td>\n      <td>0</td>\n      <td>2907.152188</td>\n      <td>0.086123</td>\n      <td>1.364821</td>\n    </tr>\n    <tr>\n      <th>2021-07-24 09:51:02+00:00</th>\n      <td>12888269</td>\n      <td>0.000000</td>\n      <td>2.330491</td>\n      <td>0</td>\n      <td>2907.152188</td>\n      <td>0.086123</td>\n      <td>1.364821</td>\n    </tr>\n    <tr>\n      <th>2021-07-24 10:10:35+00:00</th>\n      <td>12888369</td>\n      <td>0.000000</td>\n      <td>2.330491</td>\n      <td>0</td>\n      <td>2907.152188</td>\n      <td>0.086123</td>\n      <td>1.364821</td>\n    </tr>\n    <tr>\n      <th>2021-07-24 10:35:20+00:00</th>\n      <td>12888469</td>\n      <td>0.000000</td>\n      <td>2.330491</td>\n      <td>0</td>\n      <td>2915.530507</td>\n      <td>0.086076</td>\n      <td>1.361331</td>\n    </tr>\n    <tr>\n      <th>2021-07-24 10:40:48+00:00</th>\n      <td>12888500</td>\n      <td>0.000000</td>\n      <td>2.330491</td>\n      <td>0</td>\n      <td>2920.118610</td>\n      <td>0.086053</td>\n      <td>1.359385</td>\n    </tr>\n  </tbody>\n</table>\n<p>128 rows × 7 columns</p>\n</div>",
      "text/plain": "                           block_number  lp_balance  curve_gauge_balance  \\\ntime                                                                       \n2021-07-22 11:23:16+00:00      12875869    2.330491             0.000000   \n2021-07-22 11:42:35+00:00      12875969    0.000000             2.330491   \n2021-07-22 12:02:48+00:00      12876069    0.000000             2.330491   \n2021-07-22 12:23:01+00:00      12876169    0.000000             2.330491   \n2021-07-22 12:46:57+00:00      12876269    0.000000             2.330491   \n...                                 ...         ...                  ...   \n2021-07-24 09:23:50+00:00      12888169    0.000000             2.330491   \n2021-07-24 09:51:02+00:00      12888269    0.000000             2.330491   \n2021-07-24 10:10:35+00:00      12888369    0.000000             2.330491   \n2021-07-24 10:35:20+00:00      12888469    0.000000             2.330491   \n2021-07-24 10:40:48+00:00      12888500    0.000000             2.330491   \n\n                           convex_gauge_balance  num_usdt_tokens  \\\ntime                                                               \n2021-07-22 11:23:16+00:00                     0      2784.891930   \n2021-07-22 11:42:35+00:00                     0      2786.274979   \n2021-07-22 12:02:48+00:00                     0      2784.694912   \n2021-07-22 12:23:01+00:00                     0      2780.754257   \n2021-07-22 12:46:57+00:00                     0      2793.020420   \n...                                         ...              ...   \n2021-07-24 09:23:50+00:00                     0      2907.152188   \n2021-07-24 09:51:02+00:00                     0      2907.152188   \n2021-07-24 10:10:35+00:00                     0      2907.152188   \n2021-07-24 10:35:20+00:00                     0      2915.530507   \n2021-07-24 10:40:48+00:00                     0      2920.118610   \n\n                           num_wbtc_tokens  num_eth_tokens  \ntime                                                        \n2021-07-22 11:23:16+00:00         0.087497        1.407613  \n2021-07-22 11:42:35+00:00         0.087496        1.407124  \n2021-07-22 12:02:48+00:00         0.087561        1.406854  \n2021-07-22 12:23:01+00:00         0.087453        1.410071  \n2021-07-22 12:46:57+00:00         0.087177        1.407486  \n...                                    ...             ...  \n2021-07-24 09:23:50+00:00         0.086123        1.364821  \n2021-07-24 09:51:02+00:00         0.086123        1.364821  \n2021-07-24 10:10:35+00:00         0.086123        1.364821  \n2021-07-24 10:35:20+00:00         0.086076        1.361331  \n2021-07-24 10:40:48+00:00         0.086053        1.359385  \n\n[128 rows x 7 columns]"
     },
     "execution_count": 5,
     "metadata": {},
     "output_type": "execute_result"
    }
   ],
   "source": [
    "data"
   ]
  },
  {
   "cell_type": "markdown",
   "metadata": {},
   "source": [
    "Get Coingecko prices are datetimes:"
   ]
  },
  {
   "cell_type": "code",
   "execution_count": 25,
   "metadata": {},
   "outputs": [
    {
     "data": {
      "text/html": "<div>\n<style scoped>\n    .dataframe tbody tr th:only-of-type {\n        vertical-align: middle;\n    }\n\n    .dataframe tbody tr th {\n        vertical-align: top;\n    }\n\n    .dataframe thead th {\n        text-align: right;\n    }\n</style>\n<table border=\"1\" class=\"dataframe\">\n  <thead>\n    <tr style=\"text-align: right;\">\n      <th></th>\n      <th>block_number</th>\n      <th>lp_balance</th>\n      <th>curve_gauge_balance</th>\n      <th>convex_gauge_balance</th>\n      <th>num_usdt_tokens</th>\n      <th>num_wbtc_tokens</th>\n      <th>num_eth_tokens</th>\n      <th>0xdAC17F958D2ee523a2206206994597C13D831ec7_price</th>\n      <th>0x2260FAC5E5542a773Aa44fBCfeDf7C193bc2C599_price</th>\n      <th>0xc02aaa39b223fe8d0a0e5c4f27ead9083c756cc2_price</th>\n    </tr>\n    <tr>\n      <th>time</th>\n      <th></th>\n      <th></th>\n      <th></th>\n      <th></th>\n      <th></th>\n      <th></th>\n      <th></th>\n      <th></th>\n      <th></th>\n      <th></th>\n    </tr>\n  </thead>\n  <tbody>\n    <tr>\n      <th>2021-07-24 03:42:03+00:00</th>\n      <td>12886669</td>\n      <td>0.0</td>\n      <td>2.330491</td>\n      <td>0</td>\n      <td>2895.802374</td>\n      <td>0.086321</td>\n      <td>1.367291</td>\n      <td>CoinPrice(time=datetime.datetime(2021, 7, 24, ...</td>\n      <td>CoinPrice(time=datetime.datetime(2021, 7, 24, ...</td>\n      <td>CoinPrice(time=datetime.datetime(2021, 7, 24, ...</td>\n    </tr>\n    <tr>\n      <th>2021-07-24 04:04:32+00:00</th>\n      <td>12886769</td>\n      <td>0.0</td>\n      <td>2.330491</td>\n      <td>0</td>\n      <td>2910.088196</td>\n      <td>0.086245</td>\n      <td>1.361155</td>\n      <td>CoinPrice(time=datetime.datetime(2021, 7, 24, ...</td>\n      <td>CoinPrice(time=datetime.datetime(2021, 7, 24, ...</td>\n      <td>CoinPrice(time=datetime.datetime(2021, 7, 24, ...</td>\n    </tr>\n    <tr>\n      <th>2021-07-24 04:25:47+00:00</th>\n      <td>12886869</td>\n      <td>0.0</td>\n      <td>2.330491</td>\n      <td>0</td>\n      <td>2910.087679</td>\n      <td>0.086245</td>\n      <td>1.361155</td>\n      <td>CoinPrice(time=datetime.datetime(2021, 7, 24, ...</td>\n      <td>CoinPrice(time=datetime.datetime(2021, 7, 24, ...</td>\n      <td>CoinPrice(time=datetime.datetime(2021, 7, 24, ...</td>\n    </tr>\n    <tr>\n      <th>2021-07-24 04:47:20+00:00</th>\n      <td>12886969</td>\n      <td>0.0</td>\n      <td>2.330491</td>\n      <td>0</td>\n      <td>2910.237857</td>\n      <td>0.086245</td>\n      <td>1.361097</td>\n      <td>CoinPrice(time=datetime.datetime(2021, 7, 24, ...</td>\n      <td>CoinPrice(time=datetime.datetime(2021, 7, 24, ...</td>\n      <td>CoinPrice(time=datetime.datetime(2021, 7, 24, ...</td>\n    </tr>\n    <tr>\n      <th>2021-07-24 05:11:37+00:00</th>\n      <td>12887069</td>\n      <td>0.0</td>\n      <td>2.330491</td>\n      <td>0</td>\n      <td>2910.237857</td>\n      <td>0.086245</td>\n      <td>1.361097</td>\n      <td>CoinPrice(time=datetime.datetime(2021, 7, 24, ...</td>\n      <td>CoinPrice(time=datetime.datetime(2021, 7, 24, ...</td>\n      <td>CoinPrice(time=datetime.datetime(2021, 7, 24, ...</td>\n    </tr>\n    <tr>\n      <th>2021-07-24 05:33:24+00:00</th>\n      <td>12887169</td>\n      <td>0.0</td>\n      <td>2.330491</td>\n      <td>0</td>\n      <td>2907.484871</td>\n      <td>0.086258</td>\n      <td>1.362344</td>\n      <td>CoinPrice(time=datetime.datetime(2021, 7, 24, ...</td>\n      <td>CoinPrice(time=datetime.datetime(2021, 7, 24, ...</td>\n      <td>CoinPrice(time=datetime.datetime(2021, 7, 24, ...</td>\n    </tr>\n    <tr>\n      <th>2021-07-24 05:54:51+00:00</th>\n      <td>12887269</td>\n      <td>0.0</td>\n      <td>2.330491</td>\n      <td>0</td>\n      <td>2907.484871</td>\n      <td>0.086258</td>\n      <td>1.362344</td>\n      <td>CoinPrice(time=datetime.datetime(2021, 7, 24, ...</td>\n      <td>CoinPrice(time=datetime.datetime(2021, 7, 24, ...</td>\n      <td>CoinPrice(time=datetime.datetime(2021, 7, 24, ...</td>\n    </tr>\n    <tr>\n      <th>2021-07-24 06:17:00+00:00</th>\n      <td>12887369</td>\n      <td>0.0</td>\n      <td>2.330491</td>\n      <td>0</td>\n      <td>2907.655532</td>\n      <td>0.086255</td>\n      <td>1.362317</td>\n      <td>CoinPrice(time=datetime.datetime(2021, 7, 24, ...</td>\n      <td>CoinPrice(time=datetime.datetime(2021, 7, 24, ...</td>\n      <td>CoinPrice(time=datetime.datetime(2021, 7, 24, ...</td>\n    </tr>\n    <tr>\n      <th>2021-07-24 06:41:25+00:00</th>\n      <td>12887469</td>\n      <td>0.0</td>\n      <td>2.330491</td>\n      <td>0</td>\n      <td>2907.655532</td>\n      <td>0.086255</td>\n      <td>1.362317</td>\n      <td>CoinPrice(time=datetime.datetime(2021, 7, 24, ...</td>\n      <td>CoinPrice(time=datetime.datetime(2021, 7, 24, ...</td>\n      <td>CoinPrice(time=datetime.datetime(2021, 7, 24, ...</td>\n    </tr>\n    <tr>\n      <th>2021-07-24 07:06:25+00:00</th>\n      <td>12887569</td>\n      <td>0.0</td>\n      <td>2.330491</td>\n      <td>0</td>\n      <td>2907.653680</td>\n      <td>0.086255</td>\n      <td>1.362316</td>\n      <td>CoinPrice(time=datetime.datetime(2021, 7, 24, ...</td>\n      <td>CoinPrice(time=datetime.datetime(2021, 7, 24, ...</td>\n      <td>CoinPrice(time=datetime.datetime(2021, 7, 24, ...</td>\n    </tr>\n    <tr>\n      <th>2021-07-24 07:25:14+00:00</th>\n      <td>12887669</td>\n      <td>0.0</td>\n      <td>2.330491</td>\n      <td>0</td>\n      <td>2911.026490</td>\n      <td>0.086099</td>\n      <td>1.363101</td>\n      <td>CoinPrice(time=datetime.datetime(2021, 7, 24, ...</td>\n      <td>CoinPrice(time=datetime.datetime(2021, 7, 24, ...</td>\n      <td>CoinPrice(time=datetime.datetime(2021, 7, 24, ...</td>\n    </tr>\n    <tr>\n      <th>2021-07-24 07:46:43+00:00</th>\n      <td>12887769</td>\n      <td>0.0</td>\n      <td>2.330491</td>\n      <td>0</td>\n      <td>2911.026490</td>\n      <td>0.086099</td>\n      <td>1.363101</td>\n      <td>CoinPrice(time=datetime.datetime(2021, 7, 24, ...</td>\n      <td>CoinPrice(time=datetime.datetime(2021, 7, 24, ...</td>\n      <td>CoinPrice(time=datetime.datetime(2021, 7, 24, ...</td>\n    </tr>\n    <tr>\n      <th>2021-07-24 08:11:09+00:00</th>\n      <td>12887869</td>\n      <td>0.0</td>\n      <td>2.330491</td>\n      <td>0</td>\n      <td>2911.026490</td>\n      <td>0.086099</td>\n      <td>1.363101</td>\n      <td>CoinPrice(time=datetime.datetime(2021, 7, 24, ...</td>\n      <td>CoinPrice(time=datetime.datetime(2021, 7, 24, ...</td>\n      <td>CoinPrice(time=datetime.datetime(2021, 7, 24, ...</td>\n    </tr>\n    <tr>\n      <th>2021-07-24 08:34:30+00:00</th>\n      <td>12887969</td>\n      <td>0.0</td>\n      <td>2.330491</td>\n      <td>0</td>\n      <td>2906.757778</td>\n      <td>0.086119</td>\n      <td>1.365039</td>\n      <td>CoinPrice(time=datetime.datetime(2021, 7, 24, ...</td>\n      <td>CoinPrice(time=datetime.datetime(2021, 7, 24, ...</td>\n      <td>CoinPrice(time=datetime.datetime(2021, 7, 24, ...</td>\n    </tr>\n    <tr>\n      <th>2021-07-24 09:01:39+00:00</th>\n      <td>12888069</td>\n      <td>0.0</td>\n      <td>2.330491</td>\n      <td>0</td>\n      <td>2907.152188</td>\n      <td>0.086123</td>\n      <td>1.364821</td>\n      <td>CoinPrice(time=datetime.datetime(2021, 7, 24, ...</td>\n      <td>CoinPrice(time=datetime.datetime(2021, 7, 24, ...</td>\n      <td>CoinPrice(time=datetime.datetime(2021, 7, 24, ...</td>\n    </tr>\n    <tr>\n      <th>2021-07-24 09:23:50+00:00</th>\n      <td>12888169</td>\n      <td>0.0</td>\n      <td>2.330491</td>\n      <td>0</td>\n      <td>2907.152188</td>\n      <td>0.086123</td>\n      <td>1.364821</td>\n      <td>CoinPrice(time=datetime.datetime(2021, 7, 24, ...</td>\n      <td>CoinPrice(time=datetime.datetime(2021, 7, 24, ...</td>\n      <td>CoinPrice(time=datetime.datetime(2021, 7, 24, ...</td>\n    </tr>\n    <tr>\n      <th>2021-07-24 09:51:02+00:00</th>\n      <td>12888269</td>\n      <td>0.0</td>\n      <td>2.330491</td>\n      <td>0</td>\n      <td>2907.152188</td>\n      <td>0.086123</td>\n      <td>1.364821</td>\n      <td>CoinPrice(time=datetime.datetime(2021, 7, 24, ...</td>\n      <td>CoinPrice(time=datetime.datetime(2021, 7, 24, ...</td>\n      <td>CoinPrice(time=datetime.datetime(2021, 7, 24, ...</td>\n    </tr>\n    <tr>\n      <th>2021-07-24 10:10:35+00:00</th>\n      <td>12888369</td>\n      <td>0.0</td>\n      <td>2.330491</td>\n      <td>0</td>\n      <td>2907.152188</td>\n      <td>0.086123</td>\n      <td>1.364821</td>\n      <td>CoinPrice(time=datetime.datetime(2021, 7, 24, ...</td>\n      <td>CoinPrice(time=datetime.datetime(2021, 7, 24, ...</td>\n      <td>CoinPrice(time=datetime.datetime(2021, 7, 24, ...</td>\n    </tr>\n    <tr>\n      <th>2021-07-24 10:35:20+00:00</th>\n      <td>12888469</td>\n      <td>0.0</td>\n      <td>2.330491</td>\n      <td>0</td>\n      <td>2915.530507</td>\n      <td>0.086076</td>\n      <td>1.361331</td>\n      <td>CoinPrice(time=datetime.datetime(2021, 7, 24, ...</td>\n      <td>CoinPrice(time=datetime.datetime(2021, 7, 24, ...</td>\n      <td>CoinPrice(time=datetime.datetime(2021, 7, 24, ...</td>\n    </tr>\n    <tr>\n      <th>2021-07-24 10:40:48+00:00</th>\n      <td>12888500</td>\n      <td>0.0</td>\n      <td>2.330491</td>\n      <td>0</td>\n      <td>2920.118610</td>\n      <td>0.086053</td>\n      <td>1.359385</td>\n      <td>CoinPrice(time=datetime.datetime(2021, 7, 24, ...</td>\n      <td>CoinPrice(time=datetime.datetime(2021, 7, 24, ...</td>\n      <td>CoinPrice(time=datetime.datetime(2021, 7, 24, ...</td>\n    </tr>\n  </tbody>\n</table>\n</div>",
      "text/plain": "                           block_number  lp_balance  curve_gauge_balance  \\\ntime                                                                       \n2021-07-24 03:42:03+00:00      12886669         0.0             2.330491   \n2021-07-24 04:04:32+00:00      12886769         0.0             2.330491   \n2021-07-24 04:25:47+00:00      12886869         0.0             2.330491   \n2021-07-24 04:47:20+00:00      12886969         0.0             2.330491   \n2021-07-24 05:11:37+00:00      12887069         0.0             2.330491   \n2021-07-24 05:33:24+00:00      12887169         0.0             2.330491   \n2021-07-24 05:54:51+00:00      12887269         0.0             2.330491   \n2021-07-24 06:17:00+00:00      12887369         0.0             2.330491   \n2021-07-24 06:41:25+00:00      12887469         0.0             2.330491   \n2021-07-24 07:06:25+00:00      12887569         0.0             2.330491   \n2021-07-24 07:25:14+00:00      12887669         0.0             2.330491   \n2021-07-24 07:46:43+00:00      12887769         0.0             2.330491   \n2021-07-24 08:11:09+00:00      12887869         0.0             2.330491   \n2021-07-24 08:34:30+00:00      12887969         0.0             2.330491   \n2021-07-24 09:01:39+00:00      12888069         0.0             2.330491   \n2021-07-24 09:23:50+00:00      12888169         0.0             2.330491   \n2021-07-24 09:51:02+00:00      12888269         0.0             2.330491   \n2021-07-24 10:10:35+00:00      12888369         0.0             2.330491   \n2021-07-24 10:35:20+00:00      12888469         0.0             2.330491   \n2021-07-24 10:40:48+00:00      12888500         0.0             2.330491   \n\n                           convex_gauge_balance  num_usdt_tokens  \\\ntime                                                               \n2021-07-24 03:42:03+00:00                     0      2895.802374   \n2021-07-24 04:04:32+00:00                     0      2910.088196   \n2021-07-24 04:25:47+00:00                     0      2910.087679   \n2021-07-24 04:47:20+00:00                     0      2910.237857   \n2021-07-24 05:11:37+00:00                     0      2910.237857   \n2021-07-24 05:33:24+00:00                     0      2907.484871   \n2021-07-24 05:54:51+00:00                     0      2907.484871   \n2021-07-24 06:17:00+00:00                     0      2907.655532   \n2021-07-24 06:41:25+00:00                     0      2907.655532   \n2021-07-24 07:06:25+00:00                     0      2907.653680   \n2021-07-24 07:25:14+00:00                     0      2911.026490   \n2021-07-24 07:46:43+00:00                     0      2911.026490   \n2021-07-24 08:11:09+00:00                     0      2911.026490   \n2021-07-24 08:34:30+00:00                     0      2906.757778   \n2021-07-24 09:01:39+00:00                     0      2907.152188   \n2021-07-24 09:23:50+00:00                     0      2907.152188   \n2021-07-24 09:51:02+00:00                     0      2907.152188   \n2021-07-24 10:10:35+00:00                     0      2907.152188   \n2021-07-24 10:35:20+00:00                     0      2915.530507   \n2021-07-24 10:40:48+00:00                     0      2920.118610   \n\n                           num_wbtc_tokens  num_eth_tokens  \\\ntime                                                         \n2021-07-24 03:42:03+00:00         0.086321        1.367291   \n2021-07-24 04:04:32+00:00         0.086245        1.361155   \n2021-07-24 04:25:47+00:00         0.086245        1.361155   \n2021-07-24 04:47:20+00:00         0.086245        1.361097   \n2021-07-24 05:11:37+00:00         0.086245        1.361097   \n2021-07-24 05:33:24+00:00         0.086258        1.362344   \n2021-07-24 05:54:51+00:00         0.086258        1.362344   \n2021-07-24 06:17:00+00:00         0.086255        1.362317   \n2021-07-24 06:41:25+00:00         0.086255        1.362317   \n2021-07-24 07:06:25+00:00         0.086255        1.362316   \n2021-07-24 07:25:14+00:00         0.086099        1.363101   \n2021-07-24 07:46:43+00:00         0.086099        1.363101   \n2021-07-24 08:11:09+00:00         0.086099        1.363101   \n2021-07-24 08:34:30+00:00         0.086119        1.365039   \n2021-07-24 09:01:39+00:00         0.086123        1.364821   \n2021-07-24 09:23:50+00:00         0.086123        1.364821   \n2021-07-24 09:51:02+00:00         0.086123        1.364821   \n2021-07-24 10:10:35+00:00         0.086123        1.364821   \n2021-07-24 10:35:20+00:00         0.086076        1.361331   \n2021-07-24 10:40:48+00:00         0.086053        1.359385   \n\n                            0xdAC17F958D2ee523a2206206994597C13D831ec7_price  \\\ntime                                                                           \n2021-07-24 03:42:03+00:00  CoinPrice(time=datetime.datetime(2021, 7, 24, ...   \n2021-07-24 04:04:32+00:00  CoinPrice(time=datetime.datetime(2021, 7, 24, ...   \n2021-07-24 04:25:47+00:00  CoinPrice(time=datetime.datetime(2021, 7, 24, ...   \n2021-07-24 04:47:20+00:00  CoinPrice(time=datetime.datetime(2021, 7, 24, ...   \n2021-07-24 05:11:37+00:00  CoinPrice(time=datetime.datetime(2021, 7, 24, ...   \n2021-07-24 05:33:24+00:00  CoinPrice(time=datetime.datetime(2021, 7, 24, ...   \n2021-07-24 05:54:51+00:00  CoinPrice(time=datetime.datetime(2021, 7, 24, ...   \n2021-07-24 06:17:00+00:00  CoinPrice(time=datetime.datetime(2021, 7, 24, ...   \n2021-07-24 06:41:25+00:00  CoinPrice(time=datetime.datetime(2021, 7, 24, ...   \n2021-07-24 07:06:25+00:00  CoinPrice(time=datetime.datetime(2021, 7, 24, ...   \n2021-07-24 07:25:14+00:00  CoinPrice(time=datetime.datetime(2021, 7, 24, ...   \n2021-07-24 07:46:43+00:00  CoinPrice(time=datetime.datetime(2021, 7, 24, ...   \n2021-07-24 08:11:09+00:00  CoinPrice(time=datetime.datetime(2021, 7, 24, ...   \n2021-07-24 08:34:30+00:00  CoinPrice(time=datetime.datetime(2021, 7, 24, ...   \n2021-07-24 09:01:39+00:00  CoinPrice(time=datetime.datetime(2021, 7, 24, ...   \n2021-07-24 09:23:50+00:00  CoinPrice(time=datetime.datetime(2021, 7, 24, ...   \n2021-07-24 09:51:02+00:00  CoinPrice(time=datetime.datetime(2021, 7, 24, ...   \n2021-07-24 10:10:35+00:00  CoinPrice(time=datetime.datetime(2021, 7, 24, ...   \n2021-07-24 10:35:20+00:00  CoinPrice(time=datetime.datetime(2021, 7, 24, ...   \n2021-07-24 10:40:48+00:00  CoinPrice(time=datetime.datetime(2021, 7, 24, ...   \n\n                            0x2260FAC5E5542a773Aa44fBCfeDf7C193bc2C599_price  \\\ntime                                                                           \n2021-07-24 03:42:03+00:00  CoinPrice(time=datetime.datetime(2021, 7, 24, ...   \n2021-07-24 04:04:32+00:00  CoinPrice(time=datetime.datetime(2021, 7, 24, ...   \n2021-07-24 04:25:47+00:00  CoinPrice(time=datetime.datetime(2021, 7, 24, ...   \n2021-07-24 04:47:20+00:00  CoinPrice(time=datetime.datetime(2021, 7, 24, ...   \n2021-07-24 05:11:37+00:00  CoinPrice(time=datetime.datetime(2021, 7, 24, ...   \n2021-07-24 05:33:24+00:00  CoinPrice(time=datetime.datetime(2021, 7, 24, ...   \n2021-07-24 05:54:51+00:00  CoinPrice(time=datetime.datetime(2021, 7, 24, ...   \n2021-07-24 06:17:00+00:00  CoinPrice(time=datetime.datetime(2021, 7, 24, ...   \n2021-07-24 06:41:25+00:00  CoinPrice(time=datetime.datetime(2021, 7, 24, ...   \n2021-07-24 07:06:25+00:00  CoinPrice(time=datetime.datetime(2021, 7, 24, ...   \n2021-07-24 07:25:14+00:00  CoinPrice(time=datetime.datetime(2021, 7, 24, ...   \n2021-07-24 07:46:43+00:00  CoinPrice(time=datetime.datetime(2021, 7, 24, ...   \n2021-07-24 08:11:09+00:00  CoinPrice(time=datetime.datetime(2021, 7, 24, ...   \n2021-07-24 08:34:30+00:00  CoinPrice(time=datetime.datetime(2021, 7, 24, ...   \n2021-07-24 09:01:39+00:00  CoinPrice(time=datetime.datetime(2021, 7, 24, ...   \n2021-07-24 09:23:50+00:00  CoinPrice(time=datetime.datetime(2021, 7, 24, ...   \n2021-07-24 09:51:02+00:00  CoinPrice(time=datetime.datetime(2021, 7, 24, ...   \n2021-07-24 10:10:35+00:00  CoinPrice(time=datetime.datetime(2021, 7, 24, ...   \n2021-07-24 10:35:20+00:00  CoinPrice(time=datetime.datetime(2021, 7, 24, ...   \n2021-07-24 10:40:48+00:00  CoinPrice(time=datetime.datetime(2021, 7, 24, ...   \n\n                            0xc02aaa39b223fe8d0a0e5c4f27ead9083c756cc2_price  \ntime                                                                          \n2021-07-24 03:42:03+00:00  CoinPrice(time=datetime.datetime(2021, 7, 24, ...  \n2021-07-24 04:04:32+00:00  CoinPrice(time=datetime.datetime(2021, 7, 24, ...  \n2021-07-24 04:25:47+00:00  CoinPrice(time=datetime.datetime(2021, 7, 24, ...  \n2021-07-24 04:47:20+00:00  CoinPrice(time=datetime.datetime(2021, 7, 24, ...  \n2021-07-24 05:11:37+00:00  CoinPrice(time=datetime.datetime(2021, 7, 24, ...  \n2021-07-24 05:33:24+00:00  CoinPrice(time=datetime.datetime(2021, 7, 24, ...  \n2021-07-24 05:54:51+00:00  CoinPrice(time=datetime.datetime(2021, 7, 24, ...  \n2021-07-24 06:17:00+00:00  CoinPrice(time=datetime.datetime(2021, 7, 24, ...  \n2021-07-24 06:41:25+00:00  CoinPrice(time=datetime.datetime(2021, 7, 24, ...  \n2021-07-24 07:06:25+00:00  CoinPrice(time=datetime.datetime(2021, 7, 24, ...  \n2021-07-24 07:25:14+00:00  CoinPrice(time=datetime.datetime(2021, 7, 24, ...  \n2021-07-24 07:46:43+00:00  CoinPrice(time=datetime.datetime(2021, 7, 24, ...  \n2021-07-24 08:11:09+00:00  CoinPrice(time=datetime.datetime(2021, 7, 24, ...  \n2021-07-24 08:34:30+00:00  CoinPrice(time=datetime.datetime(2021, 7, 24, ...  \n2021-07-24 09:01:39+00:00  CoinPrice(time=datetime.datetime(2021, 7, 24, ...  \n2021-07-24 09:23:50+00:00  CoinPrice(time=datetime.datetime(2021, 7, 24, ...  \n2021-07-24 09:51:02+00:00  CoinPrice(time=datetime.datetime(2021, 7, 24, ...  \n2021-07-24 10:10:35+00:00  CoinPrice(time=datetime.datetime(2021, 7, 24, ...  \n2021-07-24 10:35:20+00:00  CoinPrice(time=datetime.datetime(2021, 7, 24, ...  \n2021-07-24 10:40:48+00:00  CoinPrice(time=datetime.datetime(2021, 7, 24, ...  "
     },
     "execution_count": 25,
     "metadata": {},
     "output_type": "execute_result"
    }
   ],
   "source": [
    "for idx, row in data.iterrows():\n",
    "\n",
    "    for token_name, token in {\"USDT\": USDT, \"WBTC\": WBTC, \"WETH\": WETH}.items():\n",
    "        block_time = datetime.datetime.strptime(idx, \"%Y-%m-%d %H:%M:%S%z\")\n",
    "        token_price = get_historical_price_coingecko(currency='usd', query_datetime=block_time, token_contract=token)\n",
    "        data.loc[idx, f\"{token}_price\"] = token_price.quote\n",
    "    \n",
    "    time.sleep(5)\n",
    "\n",
    "data.tail(20)"
   ]
  },
  {
   "cell_type": "markdown",
   "metadata": {},
   "source": [
    "Make Plots of num_tokens w.r.t token prices"
   ]
  },
  {
   "cell_type": "code",
   "execution_count": 26,
   "metadata": {},
   "outputs": [
    {
     "data": {
      "text/plain": "Index(['block_number', 'lp_balance', 'curve_gauge_balance',\n       'convex_gauge_balance', 'num_usdt_tokens', 'num_wbtc_tokens',\n       'num_eth_tokens', '0xdAC17F958D2ee523a2206206994597C13D831ec7_price',\n       '0x2260FAC5E5542a773Aa44fBCfeDf7C193bc2C599_price',\n       '0xc02aaa39b223fe8d0a0e5c4f27ead9083c756cc2_price'],\n      dtype='object')"
     },
     "execution_count": 26,
     "metadata": {},
     "output_type": "execute_result"
    }
   ],
   "source": [
    "data.columns"
   ]
  },
  {
   "cell_type": "code",
   "execution_count": 32,
   "metadata": {},
   "outputs": [
    {
     "data": {
      "text/plain": "datetime.datetime(2021, 7, 22, 12, 23, 16, tzinfo=<UTC>)"
     },
     "execution_count": 32,
     "metadata": {},
     "output_type": "execute_result"
    }
   ],
   "source": [
    "data.iloc[0][\"0xdAC17F958D2ee523a2206206994597C13D831ec7_price\"].time"
   ]
  },
  {
   "cell_type": "code",
   "execution_count": 31,
   "metadata": {},
   "outputs": [
    {
     "data": {
      "text/plain": "block_number                                                                                 12875869\nlp_balance                                                                                   2.330491\ncurve_gauge_balance                                                                               0.0\nconvex_gauge_balance                                                                                0\nnum_usdt_tokens                                                                            2784.89193\nnum_wbtc_tokens                                                                              0.087497\nnum_eth_tokens                                                                               1.407613\n0xdAC17F958D2ee523a2206206994597C13D831ec7_price    CoinPrice(time=datetime.datetime(2021, 7, 22, ...\n0x2260FAC5E5542a773Aa44fBCfeDf7C193bc2C599_price    CoinPrice(time=datetime.datetime(2021, 7, 22, ...\n0xc02aaa39b223fe8d0a0e5c4f27ead9083c756cc2_price    CoinPrice(time=datetime.datetime(2021, 7, 22, ...\nName: 2021-07-22 11:23:16+00:00, dtype: object"
     },
     "execution_count": 31,
     "metadata": {},
     "output_type": "execute_result"
    }
   ],
   "source": [
    "data.iloc[0]"
   ]
  },
  {
   "cell_type": "code",
   "execution_count": null,
   "metadata": {},
   "outputs": [],
   "source": []
  }
 ],
 "metadata": {
  "kernelspec": {
   "display_name": "Python 3.7.10  ('venv': venv)",
   "name": "pythonjvsc74a57bd0bcf336e9470313d62061f7fe5334ba62b1df9489e48a95345a419f74c96ed75e"
  },
  "language_info": {
   "codemirror_mode": {
    "name": "ipython",
    "version": 3
   },
   "file_extension": ".py",
   "mimetype": "text/x-python",
   "name": "python",
   "nbconvert_exporter": "python",
   "pygments_lexer": "ipython3",
   "version": "3.7.10"
  },
  "metadata": {
   "interpreter": {
    "hash": "bcf336e9470313d62061f7fe5334ba62b1df9489e48a95345a419f74c96ed75e"
   }
  },
  "orig_nbformat": 2
 },
 "nbformat": 4,
 "nbformat_minor": 2
}
